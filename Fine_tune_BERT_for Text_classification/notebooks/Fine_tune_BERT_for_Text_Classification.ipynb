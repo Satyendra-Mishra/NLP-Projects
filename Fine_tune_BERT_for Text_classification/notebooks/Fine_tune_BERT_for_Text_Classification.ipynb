{
  "nbformat": 4,
  "nbformat_minor": 0,
  "metadata": {
    "colab": {
      "provenance": [],
      "gpuType": "T4"
    },
    "kernelspec": {
      "name": "python3",
      "display_name": "Python 3"
    },
    "language_info": {
      "name": "python"
    },
    "accelerator": "GPU"
  },
  "cells": [
    {
      "cell_type": "code",
      "source": [
        "# Download tensoflow models garden\n",
        "!git clone --depth 1 -b v2.12.0 https://github.com/tensorflow/models.git\n",
        "\n",
        "# install requirements to use tensorflow/models repository\n",
        "!pip install -Uqr models/official/requirements.txt\n",
        "# you may have to restart the runtime afterwards"
      ],
      "metadata": {
        "id": "G2t-BGblmySD"
      },
      "execution_count": null,
      "outputs": []
    },
    {
      "cell_type": "code",
      "source": [
        "!pip install -q tf-models-official\n",
        "!pip install -q tensorflow_text"
      ],
      "metadata": {
        "id": "PV2MnwC7U8AF"
      },
      "execution_count": null,
      "outputs": []
    },
    {
      "cell_type": "code",
      "source": [
        "import os\n",
        "import pandas as pd\n",
        "import numpy as np\n",
        "import tensorflow as tf\n",
        "import tensorflow_hub as tf_hub\n",
        "import tensorflow_text as tf_text\n",
        "import tensorflow_models as tfm\n",
        "from sklearn.model_selection import train_test_split\n",
        "import matplotlib.pyplot as plt\n",
        "%matplotlib inline"
      ],
      "metadata": {
        "id": "ZEs4JJmnXR_Q",
        "colab": {
          "base_uri": "https://localhost:8080/"
        },
        "outputId": "23bdcb5e-fd44-4441-b571-606040f97218"
      },
      "execution_count": 1,
      "outputs": [
        {
          "output_type": "stream",
          "name": "stderr",
          "text": [
            "/usr/local/lib/python3.10/dist-packages/tensorflow_addons/utils/tfa_eol_msg.py:23: UserWarning: \n",
            "\n",
            "TensorFlow Addons (TFA) has ended development and introduction of new features.\n",
            "TFA has entered a minimal maintenance and release mode until a planned end of life in May 2024.\n",
            "Please modify downstream libraries to take dependencies from other repositories in our TensorFlow community (e.g. Keras, Keras-CV, and Keras-NLP). \n",
            "\n",
            "For more information see: https://github.com/tensorflow/addons/issues/2807 \n",
            "\n",
            "  warnings.warn(\n"
          ]
        }
      ]
    },
    {
      "cell_type": "code",
      "source": [
        "# GPU info\n",
        "!nvidia-smi -L"
      ],
      "metadata": {
        "colab": {
          "base_uri": "https://localhost:8080/"
        },
        "id": "4jnITwCVhVq4",
        "outputId": "d6303841-1b8e-4552-9b0f-207ceb154cd8"
      },
      "execution_count": 2,
      "outputs": [
        {
          "output_type": "stream",
          "name": "stdout",
          "text": [
            "GPU 0: Tesla T4 (UUID: GPU-037ca6f3-f63e-437a-bb2c-6d8572d14a12)\n"
          ]
        }
      ]
    },
    {
      "cell_type": "code",
      "source": [
        "print(\"TF Version: \", tf.__version__)\n",
        "print(\"Eager mode: \", tf.executing_eagerly())\n",
        "print(\"Hub version: \", tf_hub.__version__)\n",
        "print(\"GPU is\", \"available\" if tf.config.list_physical_devices(\"GPU\") else \"NOT AVAILABLE\")"
      ],
      "metadata": {
        "colab": {
          "base_uri": "https://localhost:8080/"
        },
        "id": "FMJ60t_sXb8g",
        "outputId": "fe076b9b-20bf-4934-9418-1d45e1fd7d29"
      },
      "execution_count": 3,
      "outputs": [
        {
          "output_type": "stream",
          "name": "stdout",
          "text": [
            "TF Version:  2.12.0\n",
            "Eager mode:  True\n",
            "Hub version:  0.13.0\n",
            "GPU is available\n"
          ]
        }
      ]
    },
    {
      "cell_type": "code",
      "source": [
        "# Reset the model training state\n",
        "reset_state = lambda: tf.keras.backend.clear_session()"
      ],
      "metadata": {
        "id": "HODZtmf_Bveh"
      },
      "execution_count": 4,
      "outputs": []
    },
    {
      "cell_type": "markdown",
      "source": [
        "Dataset link: https://archive.org/download/fine-tune-bert-tensorflow-train.csv/train.csv.zip"
      ],
      "metadata": {
        "id": "8tgYoVFZYZQn"
      }
    },
    {
      "cell_type": "code",
      "source": [
        "URL = \"https://archive.org/download/fine-tune-bert-tensorflow-train.csv/train.csv.zip\"\n",
        "\n",
        "fname = os.path.join(os.getcwd(), \"quora_dataset.csv.zip\")\n",
        "\n",
        "data_file = tf.keras.utils.get_file(fname = fname, origin = URL)"
      ],
      "metadata": {
        "id": "gY16CLnjYB_e"
      },
      "execution_count": 5,
      "outputs": []
    },
    {
      "cell_type": "code",
      "source": [
        "from zipfile import ZipFile\n",
        "from tqdm import tqdm\n",
        "# Extract zip\n",
        "with ZipFile(fname, \"r\") as zip_ref:\n",
        "  zip_ref.printdir()\n",
        "  files_list = zip_ref.namelist()\n",
        "  print(\"Extracting files\")\n",
        "  for file in tqdm(iterable = files_list, total = len(files_list)):\n",
        "    zip_ref.extract(\"train.csv\", os.path.join(os.getcwd(), \"quora_dataset\"))"
      ],
      "metadata": {
        "colab": {
          "base_uri": "https://localhost:8080/"
        },
        "id": "B1RZN5u8Y3mU",
        "outputId": "ef4df14e-6128-4457-d526-eb6b4e3da669"
      },
      "execution_count": 6,
      "outputs": [
        {
          "output_type": "stream",
          "name": "stdout",
          "text": [
            "File Name                                             Modified             Size\n",
            "train.csv                                      2019-12-11 04:05:42    124206772\n",
            "Extracting files\n"
          ]
        },
        {
          "output_type": "stream",
          "name": "stderr",
          "text": [
            "100%|██████████| 1/1 [00:02<00:00,  2.08s/it]\n"
          ]
        }
      ]
    },
    {
      "cell_type": "code",
      "source": [
        "data = pd.read_csv(\"quora_dataset/train.csv\")\n",
        "data.sample(10)"
      ],
      "metadata": {
        "id": "7A8w3PbyaPq9",
        "colab": {
          "base_uri": "https://localhost:8080/",
          "height": 363
        },
        "outputId": "8339e7dc-3c87-4a1d-fade-c5b92f3a85bc"
      },
      "execution_count": 7,
      "outputs": [
        {
          "output_type": "execute_result",
          "data": {
            "text/plain": [
              "                          qid  \\\n",
              "1238023  f29de141ce3a634545b6   \n",
              "1202507  ebad6855ded1803b4d29   \n",
              "992744   c288ff07f009cd204ca3   \n",
              "308932   3c849500d917b6cc015f   \n",
              "538103   6966607415ab6943d7ba   \n",
              "649580   7f37bcea0d6a2465772d   \n",
              "4321     00d7c45c11deb49f4fc8   \n",
              "154479   1e37117965d8710c130b   \n",
              "806911   9e1b4bf167dff755e535   \n",
              "104598   147c2cecea24072e9a28   \n",
              "\n",
              "                                             question_text  target  \n",
              "1238023  How does the US feel about their gun laws now,...       0  \n",
              "1202507  The public HS I go to is very tough compared t...       0  \n",
              "992744   In the next alien franchise, what do you think...       0  \n",
              "308932                            Can whiskey help a cold?       0  \n",
              "538103   If you tell.a psychologist that your suicidal,...       0  \n",
              "649580                Is lying right when it harms no one?       0  \n",
              "4321     What sort of stories are told to pass along kn...       0  \n",
              "154479   Can you solve thee following problem on integr...       0  \n",
              "806911   Can any cricket player play for different dist...       0  \n",
              "104598   What are the characteristics of an informal se...       0  "
            ],
            "text/html": [
              "\n",
              "  <div id=\"df-28c5f83e-f65c-4076-a577-4fc536c03840\">\n",
              "    <div class=\"colab-df-container\">\n",
              "      <div>\n",
              "<style scoped>\n",
              "    .dataframe tbody tr th:only-of-type {\n",
              "        vertical-align: middle;\n",
              "    }\n",
              "\n",
              "    .dataframe tbody tr th {\n",
              "        vertical-align: top;\n",
              "    }\n",
              "\n",
              "    .dataframe thead th {\n",
              "        text-align: right;\n",
              "    }\n",
              "</style>\n",
              "<table border=\"1\" class=\"dataframe\">\n",
              "  <thead>\n",
              "    <tr style=\"text-align: right;\">\n",
              "      <th></th>\n",
              "      <th>qid</th>\n",
              "      <th>question_text</th>\n",
              "      <th>target</th>\n",
              "    </tr>\n",
              "  </thead>\n",
              "  <tbody>\n",
              "    <tr>\n",
              "      <th>1238023</th>\n",
              "      <td>f29de141ce3a634545b6</td>\n",
              "      <td>How does the US feel about their gun laws now,...</td>\n",
              "      <td>0</td>\n",
              "    </tr>\n",
              "    <tr>\n",
              "      <th>1202507</th>\n",
              "      <td>ebad6855ded1803b4d29</td>\n",
              "      <td>The public HS I go to is very tough compared t...</td>\n",
              "      <td>0</td>\n",
              "    </tr>\n",
              "    <tr>\n",
              "      <th>992744</th>\n",
              "      <td>c288ff07f009cd204ca3</td>\n",
              "      <td>In the next alien franchise, what do you think...</td>\n",
              "      <td>0</td>\n",
              "    </tr>\n",
              "    <tr>\n",
              "      <th>308932</th>\n",
              "      <td>3c849500d917b6cc015f</td>\n",
              "      <td>Can whiskey help a cold?</td>\n",
              "      <td>0</td>\n",
              "    </tr>\n",
              "    <tr>\n",
              "      <th>538103</th>\n",
              "      <td>6966607415ab6943d7ba</td>\n",
              "      <td>If you tell.a psychologist that your suicidal,...</td>\n",
              "      <td>0</td>\n",
              "    </tr>\n",
              "    <tr>\n",
              "      <th>649580</th>\n",
              "      <td>7f37bcea0d6a2465772d</td>\n",
              "      <td>Is lying right when it harms no one?</td>\n",
              "      <td>0</td>\n",
              "    </tr>\n",
              "    <tr>\n",
              "      <th>4321</th>\n",
              "      <td>00d7c45c11deb49f4fc8</td>\n",
              "      <td>What sort of stories are told to pass along kn...</td>\n",
              "      <td>0</td>\n",
              "    </tr>\n",
              "    <tr>\n",
              "      <th>154479</th>\n",
              "      <td>1e37117965d8710c130b</td>\n",
              "      <td>Can you solve thee following problem on integr...</td>\n",
              "      <td>0</td>\n",
              "    </tr>\n",
              "    <tr>\n",
              "      <th>806911</th>\n",
              "      <td>9e1b4bf167dff755e535</td>\n",
              "      <td>Can any cricket player play for different dist...</td>\n",
              "      <td>0</td>\n",
              "    </tr>\n",
              "    <tr>\n",
              "      <th>104598</th>\n",
              "      <td>147c2cecea24072e9a28</td>\n",
              "      <td>What are the characteristics of an informal se...</td>\n",
              "      <td>0</td>\n",
              "    </tr>\n",
              "  </tbody>\n",
              "</table>\n",
              "</div>\n",
              "      <button class=\"colab-df-convert\" onclick=\"convertToInteractive('df-28c5f83e-f65c-4076-a577-4fc536c03840')\"\n",
              "              title=\"Convert this dataframe to an interactive table.\"\n",
              "              style=\"display:none;\">\n",
              "        \n",
              "  <svg xmlns=\"http://www.w3.org/2000/svg\" height=\"24px\"viewBox=\"0 0 24 24\"\n",
              "       width=\"24px\">\n",
              "    <path d=\"M0 0h24v24H0V0z\" fill=\"none\"/>\n",
              "    <path d=\"M18.56 5.44l.94 2.06.94-2.06 2.06-.94-2.06-.94-.94-2.06-.94 2.06-2.06.94zm-11 1L8.5 8.5l.94-2.06 2.06-.94-2.06-.94L8.5 2.5l-.94 2.06-2.06.94zm10 10l.94 2.06.94-2.06 2.06-.94-2.06-.94-.94-2.06-.94 2.06-2.06.94z\"/><path d=\"M17.41 7.96l-1.37-1.37c-.4-.4-.92-.59-1.43-.59-.52 0-1.04.2-1.43.59L10.3 9.45l-7.72 7.72c-.78.78-.78 2.05 0 2.83L4 21.41c.39.39.9.59 1.41.59.51 0 1.02-.2 1.41-.59l7.78-7.78 2.81-2.81c.8-.78.8-2.07 0-2.86zM5.41 20L4 18.59l7.72-7.72 1.47 1.35L5.41 20z\"/>\n",
              "  </svg>\n",
              "      </button>\n",
              "      \n",
              "  <style>\n",
              "    .colab-df-container {\n",
              "      display:flex;\n",
              "      flex-wrap:wrap;\n",
              "      gap: 12px;\n",
              "    }\n",
              "\n",
              "    .colab-df-convert {\n",
              "      background-color: #E8F0FE;\n",
              "      border: none;\n",
              "      border-radius: 50%;\n",
              "      cursor: pointer;\n",
              "      display: none;\n",
              "      fill: #1967D2;\n",
              "      height: 32px;\n",
              "      padding: 0 0 0 0;\n",
              "      width: 32px;\n",
              "    }\n",
              "\n",
              "    .colab-df-convert:hover {\n",
              "      background-color: #E2EBFA;\n",
              "      box-shadow: 0px 1px 2px rgba(60, 64, 67, 0.3), 0px 1px 3px 1px rgba(60, 64, 67, 0.15);\n",
              "      fill: #174EA6;\n",
              "    }\n",
              "\n",
              "    [theme=dark] .colab-df-convert {\n",
              "      background-color: #3B4455;\n",
              "      fill: #D2E3FC;\n",
              "    }\n",
              "\n",
              "    [theme=dark] .colab-df-convert:hover {\n",
              "      background-color: #434B5C;\n",
              "      box-shadow: 0px 1px 3px 1px rgba(0, 0, 0, 0.15);\n",
              "      filter: drop-shadow(0px 1px 2px rgba(0, 0, 0, 0.3));\n",
              "      fill: #FFFFFF;\n",
              "    }\n",
              "  </style>\n",
              "\n",
              "      <script>\n",
              "        const buttonEl =\n",
              "          document.querySelector('#df-28c5f83e-f65c-4076-a577-4fc536c03840 button.colab-df-convert');\n",
              "        buttonEl.style.display =\n",
              "          google.colab.kernel.accessAllowed ? 'block' : 'none';\n",
              "\n",
              "        async function convertToInteractive(key) {\n",
              "          const element = document.querySelector('#df-28c5f83e-f65c-4076-a577-4fc536c03840');\n",
              "          const dataTable =\n",
              "            await google.colab.kernel.invokeFunction('convertToInteractive',\n",
              "                                                     [key], {});\n",
              "          if (!dataTable) return;\n",
              "\n",
              "          const docLinkHtml = 'Like what you see? Visit the ' +\n",
              "            '<a target=\"_blank\" href=https://colab.research.google.com/notebooks/data_table.ipynb>data table notebook</a>'\n",
              "            + ' to learn more about interactive tables.';\n",
              "          element.innerHTML = '';\n",
              "          dataTable['output_type'] = 'display_data';\n",
              "          await google.colab.output.renderOutput(dataTable, element);\n",
              "          const docLink = document.createElement('div');\n",
              "          docLink.innerHTML = docLinkHtml;\n",
              "          element.appendChild(docLink);\n",
              "        }\n",
              "      </script>\n",
              "    </div>\n",
              "  </div>\n",
              "  "
            ]
          },
          "metadata": {},
          "execution_count": 7
        }
      ]
    },
    {
      "cell_type": "code",
      "source": [
        "data.info()"
      ],
      "metadata": {
        "id": "Gph72bBkbbA_",
        "colab": {
          "base_uri": "https://localhost:8080/"
        },
        "outputId": "df3cc5b6-1ca9-4d61-d33e-8fc672870790"
      },
      "execution_count": 8,
      "outputs": [
        {
          "output_type": "stream",
          "name": "stdout",
          "text": [
            "<class 'pandas.core.frame.DataFrame'>\n",
            "RangeIndex: 1306122 entries, 0 to 1306121\n",
            "Data columns (total 3 columns):\n",
            " #   Column         Non-Null Count    Dtype \n",
            "---  ------         --------------    ----- \n",
            " 0   qid            1306122 non-null  object\n",
            " 1   question_text  1306122 non-null  object\n",
            " 2   target         1306122 non-null  int64 \n",
            "dtypes: int64(1), object(2)\n",
            "memory usage: 29.9+ MB\n"
          ]
        }
      ]
    },
    {
      "cell_type": "code",
      "source": [
        "# Check for missing values\n",
        "data.isna().sum()"
      ],
      "metadata": {
        "colab": {
          "base_uri": "https://localhost:8080/"
        },
        "id": "06LG1n_Z1qy1",
        "outputId": "d040deb0-ecec-4209-b177-9731def1e059"
      },
      "execution_count": 9,
      "outputs": [
        {
          "output_type": "execute_result",
          "data": {
            "text/plain": [
              "qid              0\n",
              "question_text    0\n",
              "target           0\n",
              "dtype: int64"
            ]
          },
          "metadata": {},
          "execution_count": 9
        }
      ]
    },
    {
      "cell_type": "code",
      "source": [
        "# Distribution of target\n",
        "data[\"target\"].value_counts(normalize=True).plot(kind = \"bar\", title = \"Target Distribution\")\n",
        "plt.show();"
      ],
      "metadata": {
        "colab": {
          "base_uri": "https://localhost:8080/",
          "height": 447
        },
        "id": "2sbpIJyeokv4",
        "outputId": "82c8677f-4ea5-4d16-a869-6e439d3397cc"
      },
      "execution_count": 10,
      "outputs": [
        {
          "output_type": "display_data",
          "data": {
            "text/plain": [
              "<Figure size 640x480 with 1 Axes>"
            ],
            "image/png": "[encoded data removed]"
          },
          "metadata": {}
        }
      ]
    },
    {
      "cell_type": "markdown",
      "source": [
        "* We have a skewed target distribution.\n",
        "* We will perform a stratified train test split to maintain the distribution of target in both train and validation split"
      ],
      "metadata": {
        "id": "U5a_bmc2tcMf"
      }
    },
    {
      "cell_type": "code",
      "source": [
        "data[\"text_word_count\"] = data[\"question_text\"].str.split().apply(len)\n",
        "plt.hist(data[\"text_word_count\"], bins=50, density=True)\n",
        "plt.xlabel(\"Word count\")\n",
        "plt.ylabel(\"Density\")\n",
        "plt.title(\"Word Count Distribution\")\n",
        "plt.show();"
      ],
      "metadata": {
        "colab": {
          "base_uri": "https://localhost:8080/",
          "height": 472
        },
        "id": "3hjpSpY1bN3_",
        "outputId": "3df977a6-1380-4e85-d785-665fb0bf346b"
      },
      "execution_count": 11,
      "outputs": [
        {
          "output_type": "display_data",
          "data": {
            "text/plain": [
              "<Figure size 640x480 with 1 Axes>"
            ],
            "image/png": "[encoded data removed]"
          },
          "metadata": {}
        }
      ]
    },
    {
      "cell_type": "code",
      "source": [
        "fig, [ax1,ax2] = plt.subplots(1,2,figsize = (12,4))\n",
        "ax1.hist(data[data[\"target\"]==1][\"text_word_count\"], bins=50, density=True)\n",
        "ax2.hist(data[data[\"target\"]==0][\"text_word_count\"], bins=50, density=True)\n",
        "ax1.set(title = \"Word count distribution in Insincere questions\")\n",
        "ax2.set(title = \"Word count distribution in Sincere questions\")\n",
        "plt.show();"
      ],
      "metadata": {
        "colab": {
          "base_uri": "https://localhost:8080/",
          "height": 391
        },
        "id": "jzCaNw47bNs9",
        "outputId": "f143c607-fbdc-4b53-d067-87c814b31473"
      },
      "execution_count": 12,
      "outputs": [
        {
          "output_type": "display_data",
          "data": {
            "text/plain": [
              "<Figure size 1200x400 with 2 Axes>"
            ],
            "image/png": "[encoded data removed]"
          },
          "metadata": {}
        }
      ]
    },
    {
      "cell_type": "markdown",
      "source": [
        "### Train Test split\n",
        "\n",
        "* We will work with around 10k data points for training and 1k data points for validation as training on the entire data will take hours on Colab GPU"
      ],
      "metadata": {
        "id": "24gSmN_6v124"
      }
    },
    {
      "cell_type": "code",
      "source": [
        "# Stratified train test split\n",
        "df_train, remaining = train_test_split(data, train_size = 0.0075, stratify = data[\"target\"])"
      ],
      "metadata": {
        "id": "PRsOFUbQqBDc"
      },
      "execution_count": 13,
      "outputs": []
    },
    {
      "cell_type": "code",
      "source": [
        "df_val, _ = train_test_split(remaining, train_size = 0.00075, stratify = remaining[\"target\"])"
      ],
      "metadata": {
        "id": "NZypb6WHvzbW"
      },
      "execution_count": 14,
      "outputs": []
    },
    {
      "cell_type": "code",
      "source": [
        "print(\"Shape of training data = \", df_train.shape)\n",
        "print(\"Shape of validation data = \", df_val.shape)"
      ],
      "metadata": {
        "colab": {
          "base_uri": "https://localhost:8080/"
        },
        "id": "ne5GR7CItt-e",
        "outputId": "fbac21c1-3fd9-4bc6-eeb1-efd2b8f496dd"
      },
      "execution_count": 15,
      "outputs": [
        {
          "output_type": "stream",
          "name": "stdout",
          "text": [
            "Shape of training data =  (9795, 4)\n",
            "Shape of validation data =  (972, 4)\n"
          ]
        }
      ]
    },
    {
      "cell_type": "code",
      "source": [
        "# Distribution of target in training and validation sets\n",
        "print(\"Target distribution in training split:\")\n",
        "print(df_train[\"target\"].value_counts(normalize = True))\n",
        "print(\"\\nTarget distribution in validation split:\")\n",
        "print(df_val[\"target\"].value_counts(normalize = True))"
      ],
      "metadata": {
        "colab": {
          "base_uri": "https://localhost:8080/"
        },
        "id": "R6T5sXQVt9wp",
        "outputId": "2ad5643e-01f6-4c2e-b9b2-5447cc4f8c87"
      },
      "execution_count": 16,
      "outputs": [
        {
          "output_type": "stream",
          "name": "stdout",
          "text": [
            "Target distribution in training split:\n",
            "0    0.938132\n",
            "1    0.061868\n",
            "Name: target, dtype: float64\n",
            "\n",
            "Target distribution in validation split:\n",
            "0    0.938272\n",
            "1    0.061728\n",
            "Name: target, dtype: float64\n"
          ]
        }
      ]
    },
    {
      "cell_type": "code",
      "source": [
        "# Obtaining class weights based on the class samples imbalance ratio\n",
        "vals, num_samples = np.unique(df_train[\"target\"], return_counts = True)\n",
        "weights = np.max(num_samples)/num_samples\n",
        "\n",
        "weights_dict = dict()\n",
        "for a,b in zip(vals,weights):\n",
        "    weights_dict[a] = b\n",
        "\n",
        "print(\"Unique class labels:\\t \",vals)\n",
        "print(\"Corresponding class weights\", weights)\n",
        "print(\"No. of class samples\\t\", num_samples)\n",
        "print(\"Class weightage dict\\t\", weights_dict)"
      ],
      "metadata": {
        "colab": {
          "base_uri": "https://localhost:8080/"
        },
        "id": "uPG0VTxvGMWw",
        "outputId": "250a2a87-78a1-4d67-d0f9-203e0053807f"
      },
      "execution_count": 17,
      "outputs": [
        {
          "output_type": "stream",
          "name": "stdout",
          "text": [
            "Unique class labels:\t  [0 1]\n",
            "Corresponding class weights [ 1.         15.16336634]\n",
            "No. of class samples\t [9189  606]\n",
            "Class weightage dict\t {0: 1.0, 1: 15.163366336633663}\n"
          ]
        }
      ]
    },
    {
      "cell_type": "markdown",
      "source": [
        "## Input Pipeline"
      ],
      "metadata": {
        "id": "CZkVhaD7xMm3"
      }
    },
    {
      "cell_type": "markdown",
      "source": [
        "* BERT is expensive to train and has slower inference time because of its large size and 109 million params. Another cause is the input/output bottleneck due to writing data backforth to CPU and GPU.\n",
        "\n",
        "* Tensorflow's tf.data API help us design flexible and efficient input pipelines and address above issues."
      ],
      "metadata": {
        "id": "EnuBNbnYxO7-"
      }
    },
    {
      "cell_type": "code",
      "source": [
        "# Get the text and target from the dataframe\n",
        "#train_text = tf.convert_to_tensor(df_train[\"question_text\"].values.reshape((df_train.shape[0],-1)), dtype=tf.string)\n",
        "train_text = tf.convert_to_tensor(df_train[\"question_text\"].to_numpy(), dtype=tf.string)\n",
        "train_target = tf.convert_to_tensor(df_train[\"target\"].to_numpy(), dtype=tf.float32)\n",
        "val_text = tf.convert_to_tensor(df_val[\"question_text\"].to_numpy(), dtype=tf.string)\n",
        "val_target = tf.convert_to_tensor(df_val[\"target\"].to_numpy(), dtype=tf.float32)"
      ],
      "metadata": {
        "id": "TBU2vbebzUNt"
      },
      "execution_count": 18,
      "outputs": []
    },
    {
      "cell_type": "code",
      "source": [
        "type(train_text)"
      ],
      "metadata": {
        "colab": {
          "base_uri": "https://localhost:8080/"
        },
        "id": "zQZ8y6Nm0CP8",
        "outputId": "0c6c43c1-c125-46be-c006-8a6c11cbc165"
      },
      "execution_count": 19,
      "outputs": [
        {
          "output_type": "execute_result",
          "data": {
            "text/plain": [
              "tensorflow.python.framework.ops.EagerTensor"
            ]
          },
          "metadata": {},
          "execution_count": 19
        }
      ]
    },
    {
      "cell_type": "code",
      "source": [
        "print(\"Above tensors are placed on:\")\n",
        "print(\"train_text:\", train_text.device)\n",
        "print(\"train_target:\", train_target.device)\n",
        "print(\"val_text:\", train_text.device)\n",
        "print(\"val_target:\", train_text.device)"
      ],
      "metadata": {
        "colab": {
          "base_uri": "https://localhost:8080/"
        },
        "id": "-eg4POTa2igy",
        "outputId": "7979482f-3092-410b-9f8f-68a19bb5298e"
      },
      "execution_count": 20,
      "outputs": [
        {
          "output_type": "stream",
          "name": "stdout",
          "text": [
            "Above tensors are placed on:\n",
            "train_text: /job:localhost/replica:0/task:0/device:GPU:0\n",
            "train_target: /job:localhost/replica:0/task:0/device:GPU:0\n",
            "val_text: /job:localhost/replica:0/task:0/device:GPU:0\n",
            "val_target: /job:localhost/replica:0/task:0/device:GPU:0\n"
          ]
        }
      ]
    },
    {
      "cell_type": "markdown",
      "source": [
        "* To avoid GPU overhead we will create the dataset and apply all transformations on CPU"
      ],
      "metadata": {
        "id": "8f-q2SAw0QFs"
      }
    },
    {
      "cell_type": "code",
      "source": [
        "# List all the available CPUs\n",
        "tf.config.list_physical_devices(\"CPU\")"
      ],
      "metadata": {
        "colab": {
          "base_uri": "https://localhost:8080/"
        },
        "id": "lof9QDyX0Gss",
        "outputId": "d13cb0d1-3b00-4041-db6a-494bf03a84a7"
      },
      "execution_count": 21,
      "outputs": [
        {
          "output_type": "execute_result",
          "data": {
            "text/plain": [
              "[PhysicalDevice(name='/physical_device:CPU:0', device_type='CPU')]"
            ]
          },
          "metadata": {},
          "execution_count": 21
        }
      ]
    },
    {
      "cell_type": "code",
      "source": [
        "# If the data is already in memory we can use the from_tensor_slices() function to create the dataset\n",
        "with tf.device('/cpu:0'):\n",
        "  train_dataset = tf.data.Dataset.from_tensor_slices((train_text, train_target))\n",
        "  val_dataset = tf.data.Dataset.from_tensor_slices((val_text, val_target))"
      ],
      "metadata": {
        "id": "M1j8NGGz0f8h"
      },
      "execution_count": 22,
      "outputs": []
    },
    {
      "cell_type": "code",
      "source": [
        "with tf.device('/cpu:0'):\n",
        "  iterator = train_dataset.as_numpy_iterator() # returns a numpy array as iterator\n",
        "  for _ in range(3):\n",
        "    text, label = iterator.next()\n",
        "    print(\"Text =\", text)\n",
        "    print(\"Label =\", label)\n",
        "\n",
        "# The following piece of code will return a tf.tensor\n",
        "# for text, label in train_dataset.take(1):\n",
        "#   print(\"Text = \", text)\n",
        "#   print(\"Label = \", label)"
      ],
      "metadata": {
        "colab": {
          "base_uri": "https://localhost:8080/"
        },
        "id": "WlfN3ejK2OQx",
        "outputId": "d6582027-b881-467e-8818-92c16738e255"
      },
      "execution_count": 23,
      "outputs": [
        {
          "output_type": "stream",
          "name": "stdout",
          "text": [
            "Text = b'What is the most famous steakhouse in New York?'\n",
            "Label = 0.0\n",
            "Text = b'How do I select select a research topic for my masters?'\n",
            "Label = 0.0\n",
            "Text = b'Im hesistant to make new friends in college because I met a lot of backstabbers in high school. What would you suggest?'\n",
            "Label = 0.0\n"
          ]
        }
      ]
    },
    {
      "cell_type": "markdown",
      "source": [
        "## Text preprocessing"
      ],
      "metadata": {
        "id": "KZgoQFZH9PoN"
      }
    },
    {
      "cell_type": "code",
      "source": [
        "labels = [0, 1]\n",
        "BATCH_SIZE = 32\n",
        "max_seq_len = 128 #maximum length of each sequence"
      ],
      "metadata": {
        "id": "0X7JR-wPDhkz"
      },
      "execution_count": 24,
      "outputs": []
    },
    {
      "cell_type": "code",
      "source": [
        "# Get BERT layer\n",
        "# More details here: https://tfhub.dev/tensorflow/bert_en_uncased_L-12_H-768_A-12/2\n",
        "\n",
        "# Bert preprocessing layer\n",
        "bert_preprocessor = tf_hub.KerasLayer(\"https://tfhub.dev/tensorflow/bert_en_uncased_preprocess/3\")\n",
        "\n",
        "bert_layer = tf_hub.KerasLayer(\"https://tfhub.dev/tensorflow/bert_en_uncased_L-12_H-768_A-12/4\", trainable=True)"
      ],
      "metadata": {
        "id": "Hl0U3qQd2OFQ"
      },
      "execution_count": 25,
      "outputs": []
    },
    {
      "cell_type": "markdown",
      "source": [
        "Each data point of the dataset is composed of the question text and its label\n",
        "- Data preprocessing consists of transforming text to BERT input features:\n",
        "input_word_ids, input_mask, segment_ids\n",
        "- In the process, tokenizing the text is done with the provided BERT model tokenizer\n"
      ],
      "metadata": {
        "id": "SyL5yAsqFMnk"
      }
    },
    {
      "cell_type": "code",
      "source": [
        "preprocessor_input = tf.keras.Input(shape=(), dtype = tf.string, name=\"bert_preprocess_input\")\n",
        "text_test = ['this is such an amazing movie!']\n",
        "bert_preprocessor(text_test)"
      ],
      "metadata": {
        "colab": {
          "base_uri": "https://localhost:8080/"
        },
        "id": "6xK8xUhFLKH0",
        "outputId": "95f5c37e-e2a5-4748-d241-7042af14cbdd"
      },
      "execution_count": 26,
      "outputs": [
        {
          "output_type": "execute_result",
          "data": {
            "text/plain": [
              "{'input_mask': <tf.Tensor: shape=(1, 128), dtype=int32, numpy=\n",
              " array([[1, 1, 1, 1, 1, 1, 1, 1, 1, 0, 0, 0, 0, 0, 0, 0, 0, 0, 0, 0, 0, 0,\n",
              "         0, 0, 0, 0, 0, 0, 0, 0, 0, 0, 0, 0, 0, 0, 0, 0, 0, 0, 0, 0, 0, 0,\n",
              "         0, 0, 0, 0, 0, 0, 0, 0, 0, 0, 0, 0, 0, 0, 0, 0, 0, 0, 0, 0, 0, 0,\n",
              "         0, 0, 0, 0, 0, 0, 0, 0, 0, 0, 0, 0, 0, 0, 0, 0, 0, 0, 0, 0, 0, 0,\n",
              "         0, 0, 0, 0, 0, 0, 0, 0, 0, 0, 0, 0, 0, 0, 0, 0, 0, 0, 0, 0, 0, 0,\n",
              "         0, 0, 0, 0, 0, 0, 0, 0, 0, 0, 0, 0, 0, 0, 0, 0, 0, 0]],\n",
              "       dtype=int32)>,\n",
              " 'input_type_ids': <tf.Tensor: shape=(1, 128), dtype=int32, numpy=\n",
              " array([[0, 0, 0, 0, 0, 0, 0, 0, 0, 0, 0, 0, 0, 0, 0, 0, 0, 0, 0, 0, 0, 0,\n",
              "         0, 0, 0, 0, 0, 0, 0, 0, 0, 0, 0, 0, 0, 0, 0, 0, 0, 0, 0, 0, 0, 0,\n",
              "         0, 0, 0, 0, 0, 0, 0, 0, 0, 0, 0, 0, 0, 0, 0, 0, 0, 0, 0, 0, 0, 0,\n",
              "         0, 0, 0, 0, 0, 0, 0, 0, 0, 0, 0, 0, 0, 0, 0, 0, 0, 0, 0, 0, 0, 0,\n",
              "         0, 0, 0, 0, 0, 0, 0, 0, 0, 0, 0, 0, 0, 0, 0, 0, 0, 0, 0, 0, 0, 0,\n",
              "         0, 0, 0, 0, 0, 0, 0, 0, 0, 0, 0, 0, 0, 0, 0, 0, 0, 0]],\n",
              "       dtype=int32)>,\n",
              " 'input_word_ids': <tf.Tensor: shape=(1, 128), dtype=int32, numpy=\n",
              " array([[ 101, 2023, 2003, 2107, 2019, 6429, 3185,  999,  102,    0,    0,\n",
              "            0,    0,    0,    0,    0,    0,    0,    0,    0,    0,    0,\n",
              "            0,    0,    0,    0,    0,    0,    0,    0,    0,    0,    0,\n",
              "            0,    0,    0,    0,    0,    0,    0,    0,    0,    0,    0,\n",
              "            0,    0,    0,    0,    0,    0,    0,    0,    0,    0,    0,\n",
              "            0,    0,    0,    0,    0,    0,    0,    0,    0,    0,    0,\n",
              "            0,    0,    0,    0,    0,    0,    0,    0,    0,    0,    0,\n",
              "            0,    0,    0,    0,    0,    0,    0,    0,    0,    0,    0,\n",
              "            0,    0,    0,    0,    0,    0,    0,    0,    0,    0,    0,\n",
              "            0,    0,    0,    0,    0,    0,    0,    0,    0,    0,    0,\n",
              "            0,    0,    0,    0,    0,    0,    0,    0,    0,    0,    0,\n",
              "            0,    0,    0,    0,    0,    0,    0]], dtype=int32)>}"
            ]
          },
          "metadata": {},
          "execution_count": 26
        }
      ]
    },
    {
      "cell_type": "code",
      "source": [
        "# Building the model\n",
        "def build_model():\n",
        "  encoder_inputs = dict(\n",
        "    input_word_ids = tf.keras.layers.Input(shape=(max_seq_len,), dtype=tf.int32),\n",
        "    input_mask = tf.keras.layers.Input(shape=(max_seq_len,), dtype=tf.int32),\n",
        "    input_type_ids = tf.keras.layers.Input(shape=(max_seq_len,), dtype=tf.int32),\n",
        "    )\n",
        "  text_input = tf.keras.Input(shape=(), dtype = tf.string, name=\"preprocessor_input\")\n",
        "  preprocessor_output = bert_preprocessor(text_input)\n",
        "  enocder_outputs = bert_layer(preprocessor_output)\n",
        "\n",
        "  drop = tf.keras.layers.Dropout(0.3)(enocder_outputs[\"pooled_output\"])\n",
        "  output = tf.keras.layers.Dense(1, activation=\"sigmoid\", name=\"output\")(drop)\n",
        "\n",
        "  model = tf.keras.Model(inputs=[text_input], outputs=output)\n",
        "  return model"
      ],
      "metadata": {
        "id": "y_n4ZO8VFbc0"
      },
      "execution_count": 27,
      "outputs": []
    },
    {
      "cell_type": "code",
      "source": [
        "# Fine tune the model\n",
        "\n",
        "model = build_model()\n",
        "\n",
        "model.summary()"
      ],
      "metadata": {
        "colab": {
          "base_uri": "https://localhost:8080/"
        },
        "id": "cNIcnPqBzCWP",
        "outputId": "62cf4454-d10a-4171-c87b-a34ded1300dc"
      },
      "execution_count": 28,
      "outputs": [
        {
          "output_type": "stream",
          "name": "stdout",
          "text": [
            "Model: \"model\"\n",
            "__________________________________________________________________________________________________\n",
            " Layer (type)                   Output Shape         Param #     Connected to                     \n",
            "==================================================================================================\n",
            " preprocessor_input (InputLayer  [(None,)]           0           []                               \n",
            " )                                                                                                \n",
            "                                                                                                  \n",
            " keras_layer (KerasLayer)       {'input_mask': (Non  0           ['preprocessor_input[0][0]']     \n",
            "                                e, 128),                                                          \n",
            "                                 'input_type_ids':                                                \n",
            "                                (None, 128),                                                      \n",
            "                                 'input_word_ids':                                                \n",
            "                                (None, 128)}                                                      \n",
            "                                                                                                  \n",
            " keras_layer_1 (KerasLayer)     {'default': (None,   109482241   ['keras_layer[0][0]',            \n",
            "                                768),                             'keras_layer[0][1]',            \n",
            "                                 'sequence_output':               'keras_layer[0][2]']            \n",
            "                                 (None, 128, 768),                                                \n",
            "                                 'encoder_outputs':                                               \n",
            "                                 [(None, 128, 768),                                               \n",
            "                                 (None, 128, 768),                                                \n",
            "                                 (None, 128, 768),                                                \n",
            "                                 (None, 128, 768),                                                \n",
            "                                 (None, 128, 768),                                                \n",
            "                                 (None, 128, 768),                                                \n",
            "                                 (None, 128, 768),                                                \n",
            "                                 (None, 128, 768),                                                \n",
            "                                 (None, 128, 768),                                                \n",
            "                                 (None, 128, 768),                                                \n",
            "                                 (None, 128, 768),                                                \n",
            "                                 (None, 128, 768)],                                               \n",
            "                                 'pooled_output': (                                               \n",
            "                                None, 768)}                                                       \n",
            "                                                                                                  \n",
            " dropout (Dropout)              (None, 768)          0           ['keras_layer_1[0][13]']         \n",
            "                                                                                                  \n",
            " output (Dense)                 (None, 1)            769         ['dropout[0][0]']                \n",
            "                                                                                                  \n",
            "==================================================================================================\n",
            "Total params: 109,483,010\n",
            "Trainable params: 109,483,009\n",
            "Non-trainable params: 1\n",
            "__________________________________________________________________________________________________\n"
          ]
        }
      ]
    },
    {
      "cell_type": "code",
      "source": [
        "# plot the model\n",
        "tf.keras.utils.plot_model(model, show_shapes=True)"
      ],
      "metadata": {
        "colab": {
          "base_uri": "https://localhost:8080/",
          "height": 233
        },
        "id": "IDLUe4LOWGcV",
        "outputId": "60b21422-05b2-42a7-aa8b-aa8b035b8182"
      },
      "execution_count": 29,
      "outputs": [
        {
          "output_type": "execute_result",
          "data": {
            "image/png": "[encoded data removed]",
            "text/plain": [
              "<IPython.core.display.Image object>"
            ]
          },
          "metadata": {},
          "execution_count": 29
        }
      ]
    },
    {
      "cell_type": "code",
      "source": [
        "EPOCHS = 5\n",
        "\n",
        "train_data_size = df_train.shape[0]\n",
        "steps_per_epoch = int(train_data_size / BATCH_SIZE)\n",
        "num_train_steps = steps_per_epoch * EPOCHS\n",
        "warmup_steps = int(0.1 * num_train_steps)\n",
        "initial_learning_rate=2e-5"
      ],
      "metadata": {
        "id": "bQ4Wf5NmYvbS"
      },
      "execution_count": 30,
      "outputs": []
    },
    {
      "cell_type": "code",
      "source": [
        "# Linear decay from initial_learning_rate to zero over num_train_steps\n",
        "linear_decay = tf.keras.optimizers.schedules.PolynomialDecay(\n",
        "    initial_learning_rate=initial_learning_rate,\n",
        "    end_learning_rate=0,\n",
        "    decay_steps=num_train_steps\n",
        ")\n",
        "\n",
        "# Warmup to that value over warmup_steps\n",
        "warmup_schedule = tfm.optimization.lr_schedule.LinearWarmup(\n",
        "    warmup_learning_rate = 0,\n",
        "    after_warmup_lr_sched = linear_decay,\n",
        "    warmup_steps = warmup_steps\n",
        ")"
      ],
      "metadata": {
        "id": "sbH8-PiqaKNP"
      },
      "execution_count": 31,
      "outputs": []
    },
    {
      "cell_type": "code",
      "source": [
        "# plot the learning rate schedule\n",
        "x = tf.linspace(0, num_train_steps, 1001)\n",
        "y = [warmup_schedule(xi) for xi in x]\n",
        "plt.plot(x.numpy(),y)\n",
        "plt.xlabel('Train step')\n",
        "plt.ylabel('Learning rate')\n",
        "plt.show();"
      ],
      "metadata": {
        "colab": {
          "base_uri": "https://localhost:8080/",
          "height": 465
        },
        "id": "EUagim70eGKq",
        "outputId": "a8a652a6-153f-4cd5-b5e3-4ea9bbcfc376"
      },
      "execution_count": 32,
      "outputs": [
        {
          "output_type": "display_data",
          "data": {
            "text/plain": [
              "<Figure size 640x480 with 1 Axes>"
            ],
            "image/png": "[encoded data removed]"
          },
          "metadata": {}
        }
      ]
    },
    {
      "cell_type": "code",
      "source": [
        "# define the optimizer\n",
        "optimizer = tf.keras.optimizers.Adam(learning_rate = warmup_schedule)\n",
        "# Loss calculation\n",
        "loss = tf.keras.losses.BinaryCrossentropy()\n",
        "# metrics\n",
        "metric1 = tf.keras.metrics.Recall()\n",
        "metric2 = tf.keras.metrics.FalseNegatives()\n",
        "# Compile the model\n",
        "model.compile(optimizer = optimizer,\n",
        "              loss = loss,\n",
        "              metrics = [metric1, metric2])"
      ],
      "metadata": {
        "id": "3rPZixfL8T0S"
      },
      "execution_count": 33,
      "outputs": []
    },
    {
      "cell_type": "code",
      "source": [
        "# prepare the dataset\n",
        "train_ds = tf.data.Dataset.from_tensor_slices((train_text, train_target)).batch(32).prefetch(tf.data.AUTOTUNE)\n",
        "val_ds = tf.data.Dataset.from_tensor_slices((val_text, val_target)).batch(32).prefetch(tf.data.AUTOTUNE)"
      ],
      "metadata": {
        "id": "pgXcmN4Ca3qT"
      },
      "execution_count": 57,
      "outputs": []
    },
    {
      "cell_type": "code",
      "source": [
        "train_ds.element_spec"
      ],
      "metadata": {
        "colab": {
          "base_uri": "https://localhost:8080/"
        },
        "id": "diCE4a1wePi4",
        "outputId": "5e8e49b9-9bd5-4427-f152-d4fb00ae70e4"
      },
      "execution_count": 44,
      "outputs": [
        {
          "output_type": "execute_result",
          "data": {
            "text/plain": [
              "(TensorSpec(shape=(None,), dtype=tf.string, name=None),\n",
              " TensorSpec(shape=(None,), dtype=tf.float32, name=None))"
            ]
          },
          "metadata": {},
          "execution_count": 44
        }
      ]
    },
    {
      "cell_type": "code",
      "source": [
        "# Fine tune the model\n",
        "history = model.fit(train_ds, epochs=EPOCHS, class_weight=weights_dict, validation_data=val_ds)"
      ],
      "metadata": {
        "colab": {
          "base_uri": "https://localhost:8080/"
        },
        "id": "f7_PHNyW9I_W",
        "outputId": "c1af2230-f3a5-44e5-de28-a0e248364f3c"
      },
      "execution_count": 58,
      "outputs": [
        {
          "output_type": "stream",
          "name": "stdout",
          "text": [
            "Epoch 1/5\n",
            "307/307 [==============================] - 319s 889ms/step - loss: 0.8414 - recall_1: 0.8399 - false_negatives_1: 97.0000 - val_loss: 0.2938 - val_recall_1: 0.8833 - val_false_negatives_1: 7.0000\n",
            "Epoch 2/5\n",
            "307/307 [==============================] - 269s 875ms/step - loss: 0.4933 - recall_1: 0.9191 - false_negatives_1: 49.0000 - val_loss: 0.2889 - val_recall_1: 0.8333 - val_false_negatives_1: 10.0000\n",
            "Epoch 3/5\n",
            "307/307 [==============================] - 270s 879ms/step - loss: 0.3060 - recall_1: 0.9587 - false_negatives_1: 25.0000 - val_loss: 0.3423 - val_recall_1: 0.8833 - val_false_negatives_1: 7.0000\n",
            "Epoch 4/5\n",
            "307/307 [==============================] - 269s 876ms/step - loss: 0.1982 - recall_1: 0.9802 - false_negatives_1: 12.0000 - val_loss: 0.2085 - val_recall_1: 0.7167 - val_false_negatives_1: 17.0000\n",
            "Epoch 5/5\n",
            "307/307 [==============================] - 269s 877ms/step - loss: 0.1362 - recall_1: 0.9868 - false_negatives_1: 8.0000 - val_loss: 0.1793 - val_recall_1: 0.6833 - val_false_negatives_1: 19.0000\n"
          ]
        }
      ]
    },
    {
      "cell_type": "code",
      "source": [
        "def plot_learning_curve(history):\n",
        "  plt.plot(history.history['loss'])\n",
        "  plt.plot(history.history['val_loss'])\n",
        "  plt.title('model loss')\n",
        "  plt.ylabel('loss')\n",
        "  plt.xlabel('epoch')\n",
        "  plt.legend(['train', 'val'], loc='upper left')\n",
        "  plt.show();"
      ],
      "metadata": {
        "id": "_aO0B-usaC6B"
      },
      "execution_count": 52,
      "outputs": []
    },
    {
      "cell_type": "code",
      "source": [
        "plot_learning_curve(history)"
      ],
      "metadata": {
        "colab": {
          "base_uri": "https://localhost:8080/",
          "height": 472
        },
        "id": "l_m6lEs7gpAw",
        "outputId": "df745490-939b-4fff-b975-6b7d51e68019"
      },
      "execution_count": 59,
      "outputs": [
        {
          "output_type": "display_data",
          "data": {
            "text/plain": [
              "<Figure size 640x480 with 1 Axes>"
            ],
            "image/png": "[encoded data removed]"
          },
          "metadata": {}
        }
      ]
    },
    {
      "cell_type": "code",
      "source": [
        "preds = model.predict(val_text)\n",
        "preds_cls = np.where(np.squeeze(preds) > 0.5, 1, 0)\n",
        "preds_cls"
      ],
      "metadata": {
        "colab": {
          "base_uri": "https://localhost:8080/"
        },
        "id": "KeGGmH2vL9_2",
        "outputId": "b629a4b5-8b37-45d1-f413-d850c22be8e6"
      },
      "execution_count": 76,
      "outputs": [
        {
          "output_type": "stream",
          "name": "stdout",
          "text": [
            "31/31 [==============================] - 11s 350ms/step\n"
          ]
        }
      ]
    },
    {
      "cell_type": "code",
      "source": [
        "from sklearn.metrics import precision_recall_curve, roc_auc_score, confusion_matrix, classification_report\n",
        "print(classification_report(val_target, preds_cls))"
      ],
      "metadata": {
        "colab": {
          "base_uri": "https://localhost:8080/"
        },
        "id": "17uQL-WLQQL0",
        "outputId": "2cff682a-580c-41a1-b509-d90a3a5e16f3"
      },
      "execution_count": 78,
      "outputs": [
        {
          "output_type": "stream",
          "name": "stdout",
          "text": [
            "              precision    recall  f1-score   support\n",
            "\n",
            "         0.0       0.98      0.96      0.97       912\n",
            "         1.0       0.52      0.68      0.59        60\n",
            "\n",
            "    accuracy                           0.94       972\n",
            "   macro avg       0.75      0.82      0.78       972\n",
            "weighted avg       0.95      0.94      0.95       972\n",
            "\n"
          ]
        }
      ]
    },
    {
      "cell_type": "code",
      "source": [
        "# Import the preprocessing modules from the downloaded \"models\" repo\n",
        "import sys\n",
        "sys.path.append(\"models\")\n",
        "from models.official.nlp.data import classifier_data_lib\n",
        "from models.official.nlp.tools import tokenization\n",
        "from models.official.nlp import optimization\n",
        "\n",
        "# Here is another way of getting the inputs in above form using imoprted classifier_data_lib\n",
        "\n",
        "tknzr = tokenization.FullTokenizer(vocab_file, do_lower_case=do_lower_case)\n",
        "\n",
        "# Define a python function to convert into feature\n",
        "def to_feature(text, label, label_list=labels, max_seq_len=max_seq_len, tokenizer=tknzr):\n",
        "  # Construct a single input example\n",
        "  example = classifier_data_lib.InputExample(guid=None,\n",
        "                                             text_a=text.numpy(),\n",
        "                                             text_b=None,\n",
        "                                             label=label.numpy())\n",
        "  # Get the features of a single example\n",
        "  feature = classifier_data_lib.convert_single_example(0, example, labels, max_seq_len, tknzr)\n",
        "  # return the components of input feature\n",
        "  return feature.input_ids, feature.input_mask, feature.segment_ids, feature.label_id  # Each is a python list\n",
        "\n",
        "# Convert the function to be able to use in graph mode\n",
        "def to_feature_map(text, label):\n",
        "  input_word_ids, input_mask, input_type_ids, label_id = tf.py_function(to_feature,\n",
        "                                                                   inp = [text, label],\n",
        "                                                                   Tout = [tf.int32, tf.int32, tf.int32, tf.int32])\n",
        "  input_word_ids.set_shape([max_seq_len])\n",
        "  input_mask.set_shape([max_seq_len])\n",
        "  input_type_ids.set_shape([max_seq_len])\n",
        "  label_id.set_shape([])\n",
        "\n",
        "  input_feature = {\n",
        "      \"input_word_ids\": input_word_ids,\n",
        "      \"input_mask\": input_mask,\n",
        "      \"input_type_ids\": input_type_ids\n",
        "  }\n",
        "\n",
        "  return input_feature, label_id\n",
        "\n",
        "def test_func():# Test the above function\n",
        "  tex = tf.convert_to_tensor(data[\"question_text\"].iloc[5])\n",
        "  lab = tf.convert_to_tensor(data[\"target\"].iloc[5])\n",
        "  # call the function\n",
        "  feat = to_feature(tex, lab, label_list=labels, max_seq_len=40, tokenizer=tknzr)\n",
        "  print(feat[0], feat[1], feat[2], feat[3],sep=\"\\n\")\n",
        "  print()\n",
        "\n",
        "  inp_feat, lab_id = to_feature_map(tex, lab)\n",
        "  print(inp_feat)\n",
        "  print(lab)"
      ],
      "metadata": {
        "id": "SZadbE2s2OKj"
      },
      "execution_count": null,
      "outputs": []
    },
    {
      "cell_type": "code",
      "source": [
        "# Refer: https://stackoverflow.com/questions/63557955/tensorflow-2-3-attributeerror-tensor-object-has-no-attribute-numpy\n",
        "try:\n",
        "  train_dataset.map(lambda x,y: to_feature(x,y))\n",
        "except Exception as e:\n",
        "  print(\"Following error occured\\n\",e)"
      ],
      "metadata": {
        "colab": {
          "base_uri": "https://localhost:8080/"
        },
        "id": "yZMgo_idRVVV",
        "outputId": "d26cb9a1-95ca-44c4-e7a4-b527ef902fea"
      },
      "execution_count": 88,
      "outputs": [
        {
          "output_type": "stream",
          "name": "stdout",
          "text": [
            "Following error occured\n",
            " in user code:\n",
            "\n",
            "    File \"<ipython-input-88-18fde11bd8a1>\", line 3, in None  *\n",
            "        lambda x,y: to_feature(x,y)\n",
            "\n",
            "    NameError: name 'to_feature' is not defined\n",
            "\n"
          ]
        }
      ]
    },
    {
      "cell_type": "code",
      "source": [],
      "metadata": {
        "id": "ulYsEr_JTAwR"
      },
      "execution_count": null,
      "outputs": []
    },
    {
      "cell_type": "markdown",
      "source": [
        "## Custom preprocessing"
      ],
      "metadata": {
        "id": "jS8y33uFdqhn"
      }
    },
    {
      "cell_type": "markdown",
      "source": [
        "#### Create Lookup table for tokenization"
      ],
      "metadata": {
        "id": "2YMgcN7Ti7Bo"
      }
    },
    {
      "cell_type": "code",
      "source": [
        "# Get the vocab file\n",
        "vocab_file = bert_layer.resolved_object.vocab_file.asset_path.numpy()\n",
        "# Check if the loaded bert model cased or uncased\n",
        "do_lower_case = bert_layer.resolved_object.do_lower_case.numpy()"
      ],
      "metadata": {
        "id": "WiU59cLi4-Gv"
      },
      "execution_count": 34,
      "outputs": []
    },
    {
      "cell_type": "code",
      "source": [
        "print(\"Vocab_file path:\", vocab_file.decode(\"utf-8\"))\n",
        "print(\"uncased model:\", do_lower_case)"
      ],
      "metadata": {
        "colab": {
          "base_uri": "https://localhost:8080/"
        },
        "id": "yQ3or_Qt5oCd",
        "outputId": "dad91f94-26a8-4f5b-c236-cdeb9b2bccd1"
      },
      "execution_count": 35,
      "outputs": [
        {
          "output_type": "stream",
          "name": "stdout",
          "text": [
            "Vocab_file path: /tmp/tfhub_modules/d760773f85f64fc84ae0b47310f7cfe3bcec4868/assets/vocab.txt\n",
            "uncased model: True\n"
          ]
        }
      ]
    },
    {
      "cell_type": "code",
      "source": [
        "# Load the vocab file that corresponds to the pretrained BERT\n",
        "def load_vocab(vocab_file):\n",
        "  \"Load the vocabulary into a list\"\n",
        "  vocab = []\n",
        "  with tf.io.gfile.GFile(vocab_file, \"r\") as reader:\n",
        "    while True:\n",
        "      token = reader.readline()\n",
        "      if not token: break\n",
        "      token = token.strip()\n",
        "      vocab.append(token)\n",
        "  return vocab\n",
        "\n",
        "# Use BERT vocab to create a word to index lookup table\n",
        "def create_vocab_table(vocab, num_oov_buckets=1):\n",
        "  \"\"\"Create a lookup table for a vocabulary\"\"\"\n",
        "  vocab_values = tf.range(tf.size(vocab, out_type=tf.int64), dtype=tf.int64)\n",
        "  init = tf.lookup.KeyValueTensorInitializer(keys=vocab, values=vocab_values, key_dtype=tf.string, value_dtype=tf.int64)\n",
        "  vocab_table = tf.lookup.StaticVocabularyTable(init, num_oov_buckets, lookup_key_dtype=tf.string)\n",
        "  return vocab_table\n",
        "\n",
        "# Use BERT vocab to create a index to word lookup table\n",
        "def create_index2token(vocab):\n",
        "  # Create a lookup table for a index to token\n",
        "  vocab_values = tf.range(tf.size(vocab, out_type=tf.int64), dtype=tf.int64)\n",
        "  init = tf.lookup.KeyValueTensorInitializer(keys=vocab_values, values=vocab)\n",
        "  return tf.lookup.StaticHashTable(initializer=init, default_value=tf.constant('unk'), name=\"index2word\")"
      ],
      "metadata": {
        "id": "8DF2YSa7-LtG"
      },
      "execution_count": 36,
      "outputs": []
    },
    {
      "cell_type": "code",
      "source": [
        "# Load the vocabulary into a list\n",
        "vocab_list = load_vocab(vocab_file.decode(\"utf-8\"))\n",
        "# Create a vocabulary lookup table from BERT vocab\n",
        "vocab_lookup_table = create_vocab_table(vocab_list)\n",
        "# A lookup table mapping integer indices to words\n",
        "index2token_lookup = create_index2token(vocab_list)"
      ],
      "metadata": {
        "id": "3kuSIEpUKQGe"
      },
      "execution_count": 37,
      "outputs": []
    },
    {
      "cell_type": "code",
      "source": [
        "# Check the integer indices of the following tokens in the vocabilary lookup table\n",
        "vocab_lookup_table.lookup(tf.constant(['[PAD]', '[UNK]', '[CLS]', '[SEP]', '[MASK]']))"
      ],
      "metadata": {
        "colab": {
          "base_uri": "https://localhost:8080/"
        },
        "id": "ckCMVh-T-LnJ",
        "outputId": "bf4d90e2-e7d4-45ad-fda2-6399140456b1"
      },
      "execution_count": 38,
      "outputs": [
        {
          "output_type": "execute_result",
          "data": {
            "text/plain": [
              "<tf.Tensor: shape=(5,), dtype=int64, numpy=array([  0, 100, 101, 102, 103])>"
            ]
          },
          "metadata": {},
          "execution_count": 38
        }
      ]
    },
    {
      "cell_type": "code",
      "source": [
        "# Check out the token corresponding to an index in the int2token looup table\n",
        "index2token_lookup.lookup(tf.constant([0], dtype='int64'))"
      ],
      "metadata": {
        "colab": {
          "base_uri": "https://localhost:8080/"
        },
        "id": "mip_v0f7-LkI",
        "outputId": "28955634-a32a-476b-8e9a-b8a217237fee"
      },
      "execution_count": 39,
      "outputs": [
        {
          "output_type": "execute_result",
          "data": {
            "text/plain": [
              "<tf.Tensor: shape=(1,), dtype=string, numpy=array([b'[PAD]'], dtype=object)>"
            ]
          },
          "metadata": {},
          "execution_count": 39
        }
      ]
    },
    {
      "cell_type": "code",
      "source": [
        "#Lookup for the BERT token IDs for padding and start/end of sentence.\n",
        "PAD_ID = vocab_lookup_table.lookup(tf.constant('[PAD]')) # padding token\n",
        "CLS_ID = vocab_lookup_table.lookup(tf.constant('[CLS]')) # class token\n",
        "SEP_ID = vocab_lookup_table.lookup(tf.constant('[SEP]')) # sequence separator token"
      ],
      "metadata": {
        "id": "1JGy2pUaT84F"
      },
      "execution_count": 40,
      "outputs": []
    },
    {
      "cell_type": "markdown",
      "source": [
        "#### Preprocess the text"
      ],
      "metadata": {
        "id": "BMxo8uHxjG_h"
      }
    },
    {
      "cell_type": "code",
      "source": [
        "# Instantiate a bert tokenizer\n",
        "tokenizer = tf_text.BertTokenizer(\n",
        "    vocab_lookup_table,\n",
        "    token_out_type = tf.int64,\n",
        "    lower_case = do_lower_case\n",
        ")"
      ],
      "metadata": {
        "id": "Uvg4FNcy-LhL"
      },
      "execution_count": 41,
      "outputs": []
    },
    {
      "cell_type": "code",
      "source": [
        "# Test the tokenizer\n",
        "# Here we get the index of token as we had specified\n",
        "#token_out_type as int (if we specify string then we get words)\n",
        "tokens = tokenizer.tokenize(\"Hi, How are you doing ?\")\n",
        "tokens"
      ],
      "metadata": {
        "colab": {
          "base_uri": "https://localhost:8080/"
        },
        "id": "mWhf71sp9JsA",
        "outputId": "7ea88510-d7bb-4410-932a-8a13f83e56cc"
      },
      "execution_count": 74,
      "outputs": [
        {
          "output_type": "execute_result",
          "data": {
            "text/plain": [
              "<tf.RaggedTensor [[[7632],\n",
              "  [1010],\n",
              "  [2129],\n",
              "  [2024],\n",
              "  [2017],\n",
              "  [2725],\n",
              "  [1029]]]>"
            ]
          },
          "metadata": {},
          "execution_count": 74
        }
      ]
    },
    {
      "cell_type": "code",
      "source": [
        "# flatten the output ragged tensors and search in tokens looup table\n",
        "index2token_lookup.lookup(tokens.merge_dims(-2,-1)[:, :])"
      ],
      "metadata": {
        "colab": {
          "base_uri": "https://localhost:8080/"
        },
        "id": "GbkVPVhHXv6Y",
        "outputId": "0d9d0787-1e05-4507-c01d-0ef5eb4671fd"
      },
      "execution_count": 75,
      "outputs": [
        {
          "output_type": "execute_result",
          "data": {
            "text/plain": [
              "<tf.RaggedTensor [[b'hi', b',', b'how', b'are', b'you', b'doing', b'?']]>"
            ]
          },
          "metadata": {},
          "execution_count": 75
        }
      ]
    },
    {
      "cell_type": "code",
      "source": [
        "tokens = tokens.merge_dims(-2,-1)[:, :]\n",
        "tokens = tokens[:, :max_seq_len-2]\n",
        "tokens"
      ],
      "metadata": {
        "colab": {
          "base_uri": "https://localhost:8080/"
        },
        "id": "6JlAo-8khVWt",
        "outputId": "6ef102ec-e2d1-4dca-d461-04cbf0ed5838"
      },
      "execution_count": 76,
      "outputs": [
        {
          "output_type": "execute_result",
          "data": {
            "text/plain": [
              "<tf.RaggedTensor [[7632, 1010, 2129, 2024, 2017, 2725, 1029]]>"
            ]
          },
          "metadata": {},
          "execution_count": 76
        }
      ]
    },
    {
      "cell_type": "code",
      "source": [
        "tf.shape(tokens)"
      ],
      "metadata": {
        "colab": {
          "base_uri": "https://localhost:8080/"
        },
        "id": "Rm_qpOY_ttGB",
        "outputId": "95ec7a7d-beb5-4c5c-d6df-6f5900f35a10"
      },
      "execution_count": 78,
      "outputs": [
        {
          "output_type": "execute_result",
          "data": {
            "text/plain": [
              "<DynamicRaggedShape lengths=[1, (7,)] num_row_partitions=1>"
            ]
          },
          "metadata": {},
          "execution_count": 78
        }
      ]
    },
    {
      "cell_type": "code",
      "source": [
        "start_tokens = tf.fill([tf.shape(tokens)[0], 1], CLS_ID)\n",
        "start_tokens"
      ],
      "metadata": {
        "colab": {
          "base_uri": "https://localhost:8080/"
        },
        "id": "7hIPuv-Xh2F7",
        "outputId": "ac173051-c38d-45ba-cffb-fcc0aaf32e61"
      },
      "execution_count": 79,
      "outputs": [
        {
          "output_type": "execute_result",
          "data": {
            "text/plain": [
              "<tf.Tensor: shape=(1, 1), dtype=int64, numpy=array([[101]])>"
            ]
          },
          "metadata": {},
          "execution_count": 79
        }
      ]
    },
    {
      "cell_type": "code",
      "source": [
        "end_tokens = tf.fill([tf.shape(tokens)[0], 1], SEP_ID)\n",
        "end_tokens"
      ],
      "metadata": {
        "colab": {
          "base_uri": "https://localhost:8080/"
        },
        "id": "06Yi_GyCk6wR",
        "outputId": "ba486a70-1907-4c5a-bf09-fbd9503d7860"
      },
      "execution_count": 80,
      "outputs": [
        {
          "output_type": "execute_result",
          "data": {
            "text/plain": [
              "<tf.Tensor: shape=(1, 1), dtype=int64, numpy=array([[102]])>"
            ]
          },
          "metadata": {},
          "execution_count": 80
        }
      ]
    },
    {
      "cell_type": "code",
      "source": [
        "tokens = tf.concat([start_tokens, tokens, end_tokens], axis=1)\n",
        "tokens"
      ],
      "metadata": {
        "colab": {
          "base_uri": "https://localhost:8080/"
        },
        "id": "NL1gHYZpk37X",
        "outputId": "9685a18e-124d-4ae1-d4ec-7963bbcd3c27"
      },
      "execution_count": 81,
      "outputs": [
        {
          "output_type": "execute_result",
          "data": {
            "text/plain": [
              "<tf.RaggedTensor [[101, 7632, 1010, 2129, 2024, 2017, 2725, 1029, 102]]>"
            ]
          },
          "metadata": {},
          "execution_count": 81
        }
      ]
    },
    {
      "cell_type": "code",
      "source": [
        "tf.shape(tokens)"
      ],
      "metadata": {
        "colab": {
          "base_uri": "https://localhost:8080/"
        },
        "id": "6YU-ml3et4TG",
        "outputId": "a84d7406-3f08-4674-c845-232f7af987e9"
      },
      "execution_count": 83,
      "outputs": [
        {
          "output_type": "execute_result",
          "data": {
            "text/plain": [
              "<DynamicRaggedShape lengths=[1, (9,)] num_row_partitions=1>"
            ]
          },
          "metadata": {},
          "execution_count": 83
        }
      ]
    },
    {
      "cell_type": "code",
      "source": [
        "tokens.to_tensor(default_value = PAD_ID)"
      ],
      "metadata": {
        "colab": {
          "base_uri": "https://localhost:8080/"
        },
        "id": "rb24-Qj8l112",
        "outputId": "ab66f7aa-c161-49c7-930e-73fcec55dfaf"
      },
      "execution_count": 84,
      "outputs": [
        {
          "output_type": "execute_result",
          "data": {
            "text/plain": [
              "<tf.Tensor: shape=(1, 9), dtype=int64, numpy=array([[ 101, 7632, 1010, 2129, 2024, 2017, 2725, 1029,  102]])>"
            ]
          },
          "metadata": {},
          "execution_count": 84
        }
      ]
    },
    {
      "cell_type": "code",
      "source": [
        "tokens = tokens.to_tensor(default_value = PAD_ID)\n",
        "pad = max_seq_len - tf.shape(tokens)[1]\n",
        "pad"
      ],
      "metadata": {
        "colab": {
          "base_uri": "https://localhost:8080/"
        },
        "id": "LvVKaBZYs4_g",
        "outputId": "19fd78e5-4cd8-48ec-ec13-fb7c2cd49d5a"
      },
      "execution_count": 85,
      "outputs": [
        {
          "output_type": "execute_result",
          "data": {
            "text/plain": [
              "<tf.Tensor: shape=(), dtype=int32, numpy=119>"
            ]
          },
          "metadata": {},
          "execution_count": 85
        }
      ]
    },
    {
      "cell_type": "code",
      "source": [
        "tokens = tf.pad(tokens, [[0,0], [0, pad]], constant_values = PAD_ID)"
      ],
      "metadata": {
        "id": "I4BV-P5Vk-q7"
      },
      "execution_count": 87,
      "outputs": []
    },
    {
      "cell_type": "code",
      "source": [
        "tokens = tf.reshape(tokens, [-1])\n",
        "tokens"
      ],
      "metadata": {
        "colab": {
          "base_uri": "https://localhost:8080/"
        },
        "id": "vPQ0liAnjGE7",
        "outputId": "72090969-6ff2-4ac7-fd2a-cd276b81f40c"
      },
      "execution_count": 88,
      "outputs": [
        {
          "output_type": "execute_result",
          "data": {
            "text/plain": [
              "<tf.Tensor: shape=(128,), dtype=int64, numpy=\n",
              "array([ 101, 7632, 1010, 2129, 2024, 2017, 2725, 1029,  102,    0,    0,\n",
              "          0,    0,    0,    0,    0,    0,    0,    0,    0,    0,    0,\n",
              "          0,    0,    0,    0,    0,    0,    0,    0,    0,    0,    0,\n",
              "          0,    0,    0,    0,    0,    0,    0,    0,    0,    0,    0,\n",
              "          0,    0,    0,    0,    0,    0,    0,    0,    0,    0,    0,\n",
              "          0,    0,    0,    0,    0,    0,    0,    0,    0,    0,    0,\n",
              "          0,    0,    0,    0,    0,    0,    0,    0,    0,    0,    0,\n",
              "          0,    0,    0,    0,    0,    0,    0,    0,    0,    0,    0,\n",
              "          0,    0,    0,    0,    0,    0,    0,    0,    0,    0,    0,\n",
              "          0,    0,    0,    0,    0,    0,    0,    0,    0,    0,    0,\n",
              "          0,    0,    0,    0,    0,    0,    0,    0,    0,    0,    0,\n",
              "          0,    0,    0,    0,    0,    0,    0])>"
            ]
          },
          "metadata": {},
          "execution_count": 88
        }
      ]
    },
    {
      "cell_type": "code",
      "source": [
        "tokens = tf.cast(tokens, tf.int32)"
      ],
      "metadata": {
        "colab": {
          "base_uri": "https://localhost:8080/"
        },
        "id": "51BjAMvzuowY",
        "outputId": "c391547a-ac17-4e5d-d2e8-5dcdd9d70d71"
      },
      "execution_count": 89,
      "outputs": [
        {
          "output_type": "execute_result",
          "data": {
            "text/plain": [
              "<tf.Tensor: shape=(128,), dtype=int32, numpy=\n",
              "array([ 101, 7632, 1010, 2129, 2024, 2017, 2725, 1029,  102,    0,    0,\n",
              "          0,    0,    0,    0,    0,    0,    0,    0,    0,    0,    0,\n",
              "          0,    0,    0,    0,    0,    0,    0,    0,    0,    0,    0,\n",
              "          0,    0,    0,    0,    0,    0,    0,    0,    0,    0,    0,\n",
              "          0,    0,    0,    0,    0,    0,    0,    0,    0,    0,    0,\n",
              "          0,    0,    0,    0,    0,    0,    0,    0,    0,    0,    0,\n",
              "          0,    0,    0,    0,    0,    0,    0,    0,    0,    0,    0,\n",
              "          0,    0,    0,    0,    0,    0,    0,    0,    0,    0,    0,\n",
              "          0,    0,    0,    0,    0,    0,    0,    0,    0,    0,    0,\n",
              "          0,    0,    0,    0,    0,    0,    0,    0,    0,    0,    0,\n",
              "          0,    0,    0,    0,    0,    0,    0,    0,    0,    0,    0,\n",
              "          0,    0,    0,    0,    0,    0,    0], dtype=int32)>"
            ]
          },
          "metadata": {},
          "execution_count": 89
        }
      ]
    },
    {
      "cell_type": "code",
      "source": [
        "mask = tf.cast(tokens > 0, tf.int32)\n",
        "mask"
      ],
      "metadata": {
        "colab": {
          "base_uri": "https://localhost:8080/"
        },
        "id": "5otCE65mvyF3",
        "outputId": "c9afdc89-b27a-4f99-918b-d11f99c4d11c"
      },
      "execution_count": 94,
      "outputs": [
        {
          "output_type": "execute_result",
          "data": {
            "text/plain": [
              "<tf.Tensor: shape=(128,), dtype=int32, numpy=\n",
              "array([1, 1, 1, 1, 1, 1, 1, 1, 1, 0, 0, 0, 0, 0, 0, 0, 0, 0, 0, 0, 0, 0,\n",
              "       0, 0, 0, 0, 0, 0, 0, 0, 0, 0, 0, 0, 0, 0, 0, 0, 0, 0, 0, 0, 0, 0,\n",
              "       0, 0, 0, 0, 0, 0, 0, 0, 0, 0, 0, 0, 0, 0, 0, 0, 0, 0, 0, 0, 0, 0,\n",
              "       0, 0, 0, 0, 0, 0, 0, 0, 0, 0, 0, 0, 0, 0, 0, 0, 0, 0, 0, 0, 0, 0,\n",
              "       0, 0, 0, 0, 0, 0, 0, 0, 0, 0, 0, 0, 0, 0, 0, 0, 0, 0, 0, 0, 0, 0,\n",
              "       0, 0, 0, 0, 0, 0, 0, 0, 0, 0, 0, 0, 0, 0, 0, 0, 0, 0], dtype=int32)>"
            ]
          },
          "metadata": {},
          "execution_count": 94
        }
      ]
    },
    {
      "cell_type": "code",
      "source": [
        "zeros_dims = tf.stack(tf.shape(mask))\n",
        "zeros_dims"
      ],
      "metadata": {
        "colab": {
          "base_uri": "https://localhost:8080/"
        },
        "id": "V-s6IbZcv9im",
        "outputId": "5ffc6b13-aa17-42e2-b2e4-35ebb8dd8cb1"
      },
      "execution_count": 95,
      "outputs": [
        {
          "output_type": "execute_result",
          "data": {
            "text/plain": [
              "<tf.Tensor: shape=(1,), dtype=int32, numpy=array([128], dtype=int32)>"
            ]
          },
          "metadata": {},
          "execution_count": 95
        }
      ]
    },
    {
      "cell_type": "code",
      "source": [
        "tf.zeros_like(mask)"
      ],
      "metadata": {
        "colab": {
          "base_uri": "https://localhost:8080/"
        },
        "id": "zqHfyLzWwgsT",
        "outputId": "e214c713-8a7b-444b-9d96-6ff042e35af4"
      },
      "execution_count": 97,
      "outputs": [
        {
          "output_type": "execute_result",
          "data": {
            "text/plain": [
              "<tf.Tensor: shape=(128,), dtype=int32, numpy=\n",
              "array([0, 0, 0, 0, 0, 0, 0, 0, 0, 0, 0, 0, 0, 0, 0, 0, 0, 0, 0, 0, 0, 0,\n",
              "       0, 0, 0, 0, 0, 0, 0, 0, 0, 0, 0, 0, 0, 0, 0, 0, 0, 0, 0, 0, 0, 0,\n",
              "       0, 0, 0, 0, 0, 0, 0, 0, 0, 0, 0, 0, 0, 0, 0, 0, 0, 0, 0, 0, 0, 0,\n",
              "       0, 0, 0, 0, 0, 0, 0, 0, 0, 0, 0, 0, 0, 0, 0, 0, 0, 0, 0, 0, 0, 0,\n",
              "       0, 0, 0, 0, 0, 0, 0, 0, 0, 0, 0, 0, 0, 0, 0, 0, 0, 0, 0, 0, 0, 0,\n",
              "       0, 0, 0, 0, 0, 0, 0, 0, 0, 0, 0, 0, 0, 0, 0, 0, 0, 0], dtype=int32)>"
            ]
          },
          "metadata": {},
          "execution_count": 97
        }
      ]
    },
    {
      "cell_type": "code",
      "source": [
        "type_ids = tf.fill(zeros_dims, 0)\n",
        "type_ids"
      ],
      "metadata": {
        "colab": {
          "base_uri": "https://localhost:8080/"
        },
        "id": "vlZ57fAcwaJU",
        "outputId": "f35bab87-cbae-4cbc-87c8-d68b2be58e0b"
      },
      "execution_count": 96,
      "outputs": [
        {
          "output_type": "execute_result",
          "data": {
            "text/plain": [
              "<tf.Tensor: shape=(128,), dtype=int32, numpy=\n",
              "array([0, 0, 0, 0, 0, 0, 0, 0, 0, 0, 0, 0, 0, 0, 0, 0, 0, 0, 0, 0, 0, 0,\n",
              "       0, 0, 0, 0, 0, 0, 0, 0, 0, 0, 0, 0, 0, 0, 0, 0, 0, 0, 0, 0, 0, 0,\n",
              "       0, 0, 0, 0, 0, 0, 0, 0, 0, 0, 0, 0, 0, 0, 0, 0, 0, 0, 0, 0, 0, 0,\n",
              "       0, 0, 0, 0, 0, 0, 0, 0, 0, 0, 0, 0, 0, 0, 0, 0, 0, 0, 0, 0, 0, 0,\n",
              "       0, 0, 0, 0, 0, 0, 0, 0, 0, 0, 0, 0, 0, 0, 0, 0, 0, 0, 0, 0, 0, 0,\n",
              "       0, 0, 0, 0, 0, 0, 0, 0, 0, 0, 0, 0, 0, 0, 0, 0, 0, 0], dtype=int32)>"
            ]
          },
          "metadata": {},
          "execution_count": 96
        }
      ]
    },
    {
      "cell_type": "code",
      "source": [
        "# function to use in dataset.map()\n",
        "def preprocess(x,y):\n",
        "  return preprocess_bert_input(x, max_seq_len, tokenizer), y\n",
        "\n",
        "# Function to convert text into input format accepted by BERT\n",
        "def preprocess_bert_input(text, max_seq_len, tokenizer):\n",
        "  # input token ids\n",
        "  input_word_ids = tokenize_text(text, max_seq_len, tokenizer)\n",
        "  input_word_ids = tf.cast(input_word_ids, tf.int32)\n",
        "  # input mask\n",
        "  input_mask = tf.cast(input_word_ids > 0, tf.int32)\n",
        "  # Token type ids\n",
        "  input_type_ids = tf.zeros_like(input_mask)\n",
        "\n",
        "  input_dict = dict(input_word_ids = input_word_ids,\n",
        "               input_mask = input_mask,\n",
        "               input_type_ids = input_type_ids)\n",
        "  return input_dict\n",
        "\n",
        "# Function to tokenize a text\n",
        "def tokenize_text(text, max_seq_len, tokenizer):\n",
        "    '''\n",
        "    Args:\n",
        "    tokenizer: A bert tokenizer object\n",
        "    text: A tensor of rank >=1\n",
        "    max_seq_len: int\n",
        "    '''\n",
        "    # Convert text into tokens\n",
        "    # text.BertTokenizer returns a RaggedTensor with shape [batch, num_tokens, num_wordpieces]\n",
        "    tokens = tokenizer.tokenize(text)\n",
        "    # Flatten the resulting ragged tensor\n",
        "    tokens = tokens.merge_dims(-2,-1)\n",
        "    # Truncate sequences greater than max_seq_len-2(for CLS and SEP tokens)\n",
        "    tokens = tokens[:, :max_seq_len-2]\n",
        "    # Add CLS and SEP token ids\n",
        "    start_tokens = tf.fill([tf.shape(tokens)[0], 1], CLS_ID)\n",
        "    end_tokens = tf.fill([tf.shape(tokens)[0], 1], SEP_ID)\n",
        "    tokens = tf.concat([start_tokens, tokens, end_tokens], axis=1)\n",
        "    # Pad shorter sequences with PAD token id\n",
        "    tokens = tokens.to_tensor(default_value = PAD_ID)\n",
        "    pad = max_seq_len - tf.shape(tokens)[1]\n",
        "    tokens = tf.pad(tokens, [[0,0], [0, pad]], constant_values = PAD_ID)\n",
        "    # Reshape the word tokens ids to fit the output data structure of TFT\n",
        "    tokens = tf.reshape(tokens, [-1])\n",
        "    return tokens\n",
        "\n",
        "\n",
        "def test_func():\n",
        "  tex = [data[\"question_text\"].iloc[5]]\n",
        "  tex = tf.convert_to_tensor(tex, dtype = tf.string)\n",
        "  lab = np.array(data[\"target\"].iloc[5])\n",
        "  lab = tf.convert_to_tensor(lab, dtype = tf.int64)\n",
        "  #return tokenize_text(tex, 40, tokenizer)\n",
        "  #return preprocess_bert_input(tex, 40, tokenizer)\n",
        "  return preprocess(tex, lab)\n",
        "\n",
        "test_func()"
      ],
      "metadata": {
        "id": "BlA-Gzf0ZE9U",
        "colab": {
          "base_uri": "https://localhost:8080/"
        },
        "outputId": "71697ff4-1039-4cbd-8ed6-ab504dd9c09a"
      },
      "execution_count": 42,
      "outputs": [
        {
          "output_type": "execute_result",
          "data": {
            "text/plain": [
              "({'input_word_ids': <tf.Tensor: shape=(128,), dtype=int32, numpy=\n",
              "  array([  101,  2003, 14474,  3254,  3352, 24363,  1010,  4830,  7507,\n",
              "          2226,  2030, 29461, 16558, 19839,  2050,  2005, 21524,  1029,\n",
              "           102,     0,     0,     0,     0,     0,     0,     0,     0,\n",
              "             0,     0,     0,     0,     0,     0,     0,     0,     0,\n",
              "             0,     0,     0,     0,     0,     0,     0,     0,     0,\n",
              "             0,     0,     0,     0,     0,     0,     0,     0,     0,\n",
              "             0,     0,     0,     0,     0,     0,     0,     0,     0,\n",
              "             0,     0,     0,     0,     0,     0,     0,     0,     0,\n",
              "             0,     0,     0,     0,     0,     0,     0,     0,     0,\n",
              "             0,     0,     0,     0,     0,     0,     0,     0,     0,\n",
              "             0,     0,     0,     0,     0,     0,     0,     0,     0,\n",
              "             0,     0,     0,     0,     0,     0,     0,     0,     0,\n",
              "             0,     0,     0,     0,     0,     0,     0,     0,     0,\n",
              "             0,     0,     0,     0,     0,     0,     0,     0,     0,\n",
              "             0,     0], dtype=int32)>,\n",
              "  'input_mask': <tf.Tensor: shape=(128,), dtype=int32, numpy=\n",
              "  array([1, 1, 1, 1, 1, 1, 1, 1, 1, 1, 1, 1, 1, 1, 1, 1, 1, 1, 1, 0, 0, 0,\n",
              "         0, 0, 0, 0, 0, 0, 0, 0, 0, 0, 0, 0, 0, 0, 0, 0, 0, 0, 0, 0, 0, 0,\n",
              "         0, 0, 0, 0, 0, 0, 0, 0, 0, 0, 0, 0, 0, 0, 0, 0, 0, 0, 0, 0, 0, 0,\n",
              "         0, 0, 0, 0, 0, 0, 0, 0, 0, 0, 0, 0, 0, 0, 0, 0, 0, 0, 0, 0, 0, 0,\n",
              "         0, 0, 0, 0, 0, 0, 0, 0, 0, 0, 0, 0, 0, 0, 0, 0, 0, 0, 0, 0, 0, 0,\n",
              "         0, 0, 0, 0, 0, 0, 0, 0, 0, 0, 0, 0, 0, 0, 0, 0, 0, 0], dtype=int32)>,\n",
              "  'input_type_ids': <tf.Tensor: shape=(128,), dtype=int32, numpy=\n",
              "  array([0, 0, 0, 0, 0, 0, 0, 0, 0, 0, 0, 0, 0, 0, 0, 0, 0, 0, 0, 0, 0, 0,\n",
              "         0, 0, 0, 0, 0, 0, 0, 0, 0, 0, 0, 0, 0, 0, 0, 0, 0, 0, 0, 0, 0, 0,\n",
              "         0, 0, 0, 0, 0, 0, 0, 0, 0, 0, 0, 0, 0, 0, 0, 0, 0, 0, 0, 0, 0, 0,\n",
              "         0, 0, 0, 0, 0, 0, 0, 0, 0, 0, 0, 0, 0, 0, 0, 0, 0, 0, 0, 0, 0, 0,\n",
              "         0, 0, 0, 0, 0, 0, 0, 0, 0, 0, 0, 0, 0, 0, 0, 0, 0, 0, 0, 0, 0, 0,\n",
              "         0, 0, 0, 0, 0, 0, 0, 0, 0, 0, 0, 0, 0, 0, 0, 0, 0, 0], dtype=int32)>},\n",
              " <tf.Tensor: shape=(), dtype=int64, numpy=0>)"
            ]
          },
          "metadata": {},
          "execution_count": 42
        }
      ]
    },
    {
      "cell_type": "code",
      "source": [
        "# prepare the tf.data.Dataset\n",
        "AUTOTUNE = tf.data.AUTOTUNE\n",
        "train_dataset = train_dataset.map(preprocess, num_parallel_calls = AUTOTUNE).batch(32).prefetch(AUTOTUNE)\n",
        "val_dataset = val_dataset.map(preprocess, num_parallel_calls = AUTOTUNE).batch(32).prefetch(AUTOTUNE)"
      ],
      "metadata": {
        "id": "Vy6aQBnkFXO9"
      },
      "execution_count": 43,
      "outputs": []
    },
    {
      "cell_type": "code",
      "source": [
        "train_dataset.element_spec"
      ],
      "metadata": {
        "colab": {
          "base_uri": "https://localhost:8080/"
        },
        "id": "Y8je2LRF-8B0",
        "outputId": "f4ae39c8-a40b-402d-ec68-b0bb6e8d3926"
      },
      "execution_count": 44,
      "outputs": [
        {
          "output_type": "execute_result",
          "data": {
            "text/plain": [
              "({'input_word_ids': TensorSpec(shape=(None, None), dtype=tf.int32, name=None),\n",
              "  'input_mask': TensorSpec(shape=(None, None), dtype=tf.int32, name=None),\n",
              "  'input_type_ids': TensorSpec(shape=(None, None), dtype=tf.int32, name=None)},\n",
              " TensorSpec(shape=(None,), dtype=tf.float32, name=None))"
            ]
          },
          "metadata": {},
          "execution_count": 44
        }
      ]
    },
    {
      "cell_type": "code",
      "source": [
        "for x,y in train_dataset.take(1):\n",
        "  print(x)\n",
        "  print(y)"
      ],
      "metadata": {
        "colab": {
          "base_uri": "https://localhost:8080/"
        },
        "id": "Go9ATJo1PnUY",
        "outputId": "7d9cb1a2-788e-4017-ba61-46c6edf03888"
      },
      "execution_count": 45,
      "outputs": [
        {
          "output_type": "stream",
          "name": "stdout",
          "text": [
            "{'input_word_ids': <tf.Tensor: shape=(32, 128), dtype=int32, numpy=\n",
            "array([[  101,  2054,  2003, ...,     0,     0,     0],\n",
            "       [  101,  2129,  2079, ...,     0,     0,     0],\n",
            "       [  101, 10047,  2002, ...,     0,     0,     0],\n",
            "       ...,\n",
            "       [  101,  2115,  6898, ...,     0,     0,     0],\n",
            "       [  101,  2054,  2003, ...,     0,     0,     0],\n",
            "       [  101,  2054,  2024, ...,     0,     0,     0]], dtype=int32)>, 'input_mask': <tf.Tensor: shape=(32, 128), dtype=int32, numpy=\n",
            "array([[1, 1, 1, ..., 0, 0, 0],\n",
            "       [1, 1, 1, ..., 0, 0, 0],\n",
            "       [1, 1, 1, ..., 0, 0, 0],\n",
            "       ...,\n",
            "       [1, 1, 1, ..., 0, 0, 0],\n",
            "       [1, 1, 1, ..., 0, 0, 0],\n",
            "       [1, 1, 1, ..., 0, 0, 0]], dtype=int32)>, 'input_type_ids': <tf.Tensor: shape=(32, 128), dtype=int32, numpy=\n",
            "array([[0, 0, 0, ..., 0, 0, 0],\n",
            "       [0, 0, 0, ..., 0, 0, 0],\n",
            "       [0, 0, 0, ..., 0, 0, 0],\n",
            "       ...,\n",
            "       [0, 0, 0, ..., 0, 0, 0],\n",
            "       [0, 0, 0, ..., 0, 0, 0],\n",
            "       [0, 0, 0, ..., 0, 0, 0]], dtype=int32)>}\n",
            "tf.Tensor(\n",
            "[0. 0. 0. 0. 0. 0. 0. 0. 0. 0. 1. 0. 0. 0. 0. 0. 0. 0. 0. 0. 0. 0. 0. 0.\n",
            " 0. 0. 0. 0. 0. 1. 0. 0.], shape=(32,), dtype=float32)\n"
          ]
        }
      ]
    },
    {
      "cell_type": "markdown",
      "source": [
        "# Build the model"
      ],
      "metadata": {
        "id": "Lda7tB05sAe-"
      }
    },
    {
      "cell_type": "code",
      "source": [
        "tf.debugging.disable_traceback_filtering()"
      ],
      "metadata": {
        "id": "W41OvXP_9I5e"
      },
      "execution_count": null,
      "outputs": []
    },
    {
      "cell_type": "code",
      "source": [
        "# Building the model\n",
        "def build_model_2():\n",
        "  encoder_inputs = dict(\n",
        "    input_word_ids = tf.keras.layers.Input(shape=(max_seq_len,), dtype=tf.int32),\n",
        "    input_mask = tf.keras.layers.Input(shape=(max_seq_len,), dtype=tf.int32),\n",
        "    input_type_ids = tf.keras.layers.Input(shape=(max_seq_len,), dtype=tf.int32),\n",
        "    )\n",
        "\n",
        "  enocder_outputs = bert_layer(encoder_inputs)\n",
        "\n",
        "  drop = tf.keras.layers.Dropout(0.4)(enocder_outputs[\"pooled_output\"])\n",
        "  output = tf.keras.layers.Dense(1, activation=\"sigmoid\", name=\"output\")(drop)\n",
        "\n",
        "  model = tf.keras.Model(inputs=[encoder_inputs], outputs=output)\n",
        "  return model"
      ],
      "metadata": {
        "id": "7MdOeGP19Ixp"
      },
      "execution_count": 46,
      "outputs": []
    },
    {
      "cell_type": "code",
      "source": [
        "model2 = build_model_2()"
      ],
      "metadata": {
        "id": "DV0CtjfL9Iuv"
      },
      "execution_count": 47,
      "outputs": []
    },
    {
      "cell_type": "code",
      "source": [
        "model2.summary()"
      ],
      "metadata": {
        "colab": {
          "base_uri": "https://localhost:8080/"
        },
        "id": "FxERpzUqqS5P",
        "outputId": "97689956-5076-48f5-ee90-f972250640b5"
      },
      "execution_count": 48,
      "outputs": [
        {
          "output_type": "stream",
          "name": "stdout",
          "text": [
            "Model: \"model_1\"\n",
            "__________________________________________________________________________________________________\n",
            " Layer (type)                   Output Shape         Param #     Connected to                     \n",
            "==================================================================================================\n",
            " input_5 (InputLayer)           [(None, 128)]        0           []                               \n",
            "                                                                                                  \n",
            " input_6 (InputLayer)           [(None, 128)]        0           []                               \n",
            "                                                                                                  \n",
            " input_4 (InputLayer)           [(None, 128)]        0           []                               \n",
            "                                                                                                  \n",
            " keras_layer_1 (KerasLayer)     {'default': (None,   109482241   ['input_5[0][0]',                \n",
            "                                768),                             'input_6[0][0]',                \n",
            "                                 'sequence_output':               'input_4[0][0]']                \n",
            "                                 (None, 128, 768),                                                \n",
            "                                 'encoder_outputs':                                               \n",
            "                                 [(None, 128, 768),                                               \n",
            "                                 (None, 128, 768),                                                \n",
            "                                 (None, 128, 768),                                                \n",
            "                                 (None, 128, 768),                                                \n",
            "                                 (None, 128, 768),                                                \n",
            "                                 (None, 128, 768),                                                \n",
            "                                 (None, 128, 768),                                                \n",
            "                                 (None, 128, 768),                                                \n",
            "                                 (None, 128, 768),                                                \n",
            "                                 (None, 128, 768),                                                \n",
            "                                 (None, 128, 768),                                                \n",
            "                                 (None, 128, 768)],                                               \n",
            "                                 'pooled_output': (                                               \n",
            "                                None, 768)}                                                       \n",
            "                                                                                                  \n",
            " dropout_1 (Dropout)            (None, 768)          0           ['keras_layer_1[1][13]']         \n",
            "                                                                                                  \n",
            " output (Dense)                 (None, 1)            769         ['dropout_1[0][0]']              \n",
            "                                                                                                  \n",
            "==================================================================================================\n",
            "Total params: 109,483,010\n",
            "Trainable params: 109,483,009\n",
            "Non-trainable params: 1\n",
            "__________________________________________________________________________________________________\n"
          ]
        }
      ]
    },
    {
      "cell_type": "code",
      "source": [
        "model2.compile(optimizer=optimizer, loss=loss, metrics = [metric1, metric2])"
      ],
      "metadata": {
        "id": "UcC_iw8U9IsA"
      },
      "execution_count": 49,
      "outputs": []
    },
    {
      "cell_type": "code",
      "source": [
        "history2 = model2.fit(train_dataset, epochs=EPOCHS, class_weight=weights_dict, validation_data=val_dataset)"
      ],
      "metadata": {
        "colab": {
          "base_uri": "https://localhost:8080/"
        },
        "id": "DushmEUOmDAK",
        "outputId": "59850bde-f761-4b9a-9d83-9f7142e85305"
      },
      "execution_count": 50,
      "outputs": [
        {
          "output_type": "stream",
          "name": "stdout",
          "text": [
            "Epoch 1/5\n",
            "307/307 [==============================] - 304s 830ms/step - loss: 0.8917 - recall: 0.7855 - false_negatives: 130.0000 - val_loss: 0.1741 - val_recall: 0.7167 - val_false_negatives: 17.0000\n",
            "Epoch 2/5\n",
            "307/307 [==============================] - 253s 825ms/step - loss: 0.5000 - recall: 0.9142 - false_negatives: 52.0000 - val_loss: 0.3704 - val_recall: 0.9167 - val_false_negatives: 5.0000\n",
            "Epoch 3/5\n",
            "307/307 [==============================] - 253s 824ms/step - loss: 0.3105 - recall: 0.9604 - false_negatives: 24.0000 - val_loss: 0.1897 - val_recall: 0.6833 - val_false_negatives: 19.0000\n",
            "Epoch 4/5\n",
            "307/307 [==============================] - 253s 825ms/step - loss: 0.2186 - recall: 0.9719 - false_negatives: 17.0000 - val_loss: 0.1858 - val_recall: 0.6333 - val_false_negatives: 22.0000\n",
            "Epoch 5/5\n",
            "307/307 [==============================] - 253s 825ms/step - loss: 0.1597 - recall: 0.9868 - false_negatives: 8.0000 - val_loss: 0.2046 - val_recall: 0.6667 - val_false_negatives: 20.0000\n"
          ]
        }
      ]
    },
    {
      "cell_type": "code",
      "source": [
        "plot_learning_curve(history2)"
      ],
      "metadata": {
        "colab": {
          "base_uri": "https://localhost:8080/",
          "height": 472
        },
        "id": "Eo-8KeXcaw3_",
        "outputId": "0b64c76a-65d0-4d7e-9635-177215a3fb0f"
      },
      "execution_count": 53,
      "outputs": [
        {
          "output_type": "display_data",
          "data": {
            "text/plain": [
              "<Figure size 640x480 with 1 Axes>"
            ],
            "image/png": "[encoded data removed]"
          },
          "metadata": {}
        }
      ]
    },
    {
      "cell_type": "code",
      "source": [],
      "metadata": {
        "id": "5_yTdJm69I0c"
      },
      "execution_count": null,
      "outputs": []
    },
    {
      "cell_type": "code",
      "source": [],
      "metadata": {
        "id": "QJ1WWYxB9I76"
      },
      "execution_count": null,
      "outputs": []
    },
    {
      "cell_type": "code",
      "source": [],
      "metadata": {
        "id": "uvukvHSU9I29"
      },
      "execution_count": null,
      "outputs": []
    },
    {
      "cell_type": "code",
      "source": [],
      "metadata": {
        "id": "WgtmoLeXnAYe"
      },
      "execution_count": null,
      "outputs": []
    }
  ]
}