{
  "nbformat": 4,
  "nbformat_minor": 0,
  "metadata": {
    "colab": {
      "provenance": [],
      "gpuType": "T4"
    },
    "kernelspec": {
      "name": "python3",
      "display_name": "Python 3"
    },
    "language_info": {
      "name": "python"
    },
    "accelerator": "GPU",
    "gpuClass": "standard"
  },
  "cells": [
    {
      "cell_type": "code",
      "source": [
        "# Download tensoflow models garden\n",
        "!git clone --depth 1 -b v2.12.0 https://github.com/tensorflow/models.git\n",
        "\n",
        "# install requirements to use tensorflow/models repository\n",
        "!pip install -Uqr models/official/requirements.txt\n",
        "# you may have to restart the runtime afterwards"
      ],
      "metadata": {
        "id": "G2t-BGblmySD"
      },
      "execution_count": null,
      "outputs": []
    },
    {
      "cell_type": "code",
      "source": [
        "!pip install tensorflow_text"
      ],
      "metadata": {
        "id": "UhiZbECYKd2b"
      },
      "execution_count": null,
      "outputs": []
    },
    {
      "cell_type": "code",
      "source": [
        "import os\n",
        "import pandas as pd\n",
        "import numpy as np\n",
        "import tensorflow as tf\n",
        "import tensorflow_hub as tf_hub\n",
        "import tensorflow_text as tf_text\n",
        "from sklearn.model_selection import train_test_split\n",
        "import matplotlib.pyplot as plt"
      ],
      "metadata": {
        "id": "ZEs4JJmnXR_Q"
      },
      "execution_count": 1,
      "outputs": []
    },
    {
      "cell_type": "code",
      "source": [
        "#GPU info\n",
        "!nvidia-smi"
      ],
      "metadata": {
        "colab": {
          "base_uri": "https://localhost:8080/"
        },
        "id": "4jnITwCVhVq4",
        "outputId": "c2be913f-a69d-4bb2-dd60-d3e872a5bb09"
      },
      "execution_count": 2,
      "outputs": [
        {
          "output_type": "stream",
          "name": "stdout",
          "text": [
            "Sat May 20 08:44:29 2023       \n",
            "+-----------------------------------------------------------------------------+\n",
            "| NVIDIA-SMI 525.85.12    Driver Version: 525.85.12    CUDA Version: 12.0     |\n",
            "|-------------------------------+----------------------+----------------------+\n",
            "| GPU  Name        Persistence-M| Bus-Id        Disp.A | Volatile Uncorr. ECC |\n",
            "| Fan  Temp  Perf  Pwr:Usage/Cap|         Memory-Usage | GPU-Util  Compute M. |\n",
            "|                               |                      |               MIG M. |\n",
            "|===============================+======================+======================|\n",
            "|   0  Tesla T4            Off  | 00000000:00:04.0 Off |                    0 |\n",
            "| N/A   43C    P8     9W /  70W |      0MiB / 15360MiB |      0%      Default |\n",
            "|                               |                      |                  N/A |\n",
            "+-------------------------------+----------------------+----------------------+\n",
            "                                                                               \n",
            "+-----------------------------------------------------------------------------+\n",
            "| Processes:                                                                  |\n",
            "|  GPU   GI   CI        PID   Type   Process name                  GPU Memory |\n",
            "|        ID   ID                                                   Usage      |\n",
            "|=============================================================================|\n",
            "|  No running processes found                                                 |\n",
            "+-----------------------------------------------------------------------------+\n"
          ]
        }
      ]
    },
    {
      "cell_type": "code",
      "source": [
        "print(\"TF Version: \", tf.__version__)\n",
        "print(\"Eager mode: \", tf.executing_eagerly())\n",
        "print(\"Hub version: \", tf_hub.__version__)\n",
        "print(\"GPU is\", \"available\" if tf.config.list_physical_devices(\"GPU\") else \"NOT AVAILABLE\")"
      ],
      "metadata": {
        "colab": {
          "base_uri": "https://localhost:8080/"
        },
        "id": "FMJ60t_sXb8g",
        "outputId": "bf029a1f-ba52-42dc-ed4b-1bc5240db658"
      },
      "execution_count": 3,
      "outputs": [
        {
          "output_type": "stream",
          "name": "stdout",
          "text": [
            "TF Version:  2.12.0\n",
            "Eager mode:  True\n",
            "Hub version:  0.13.0\n",
            "GPU is available\n"
          ]
        }
      ]
    },
    {
      "cell_type": "markdown",
      "source": [
        "Dataset link: https://archive.org/download/fine-tune-bert-tensorflow-train.csv/train.csv.zip"
      ],
      "metadata": {
        "id": "8tgYoVFZYZQn"
      }
    },
    {
      "cell_type": "code",
      "source": [
        "URL = \"https://archive.org/download/fine-tune-bert-tensorflow-train.csv/train.csv.zip\"\n",
        "\n",
        "fname = os.path.join(os.getcwd(), \"quora_dataset.csv.zip\")\n",
        "\n",
        "data_file = tf.keras.utils.get_file(fname = fname, origin = URL)"
      ],
      "metadata": {
        "colab": {
          "base_uri": "https://localhost:8080/"
        },
        "id": "gY16CLnjYB_e",
        "outputId": "ad8b7865-edb1-43c5-e6d4-989a7367d5b1"
      },
      "execution_count": 4,
      "outputs": [
        {
          "output_type": "stream",
          "name": "stdout",
          "text": [
            "Downloading data from https://archive.org/download/fine-tune-bert-tensorflow-train.csv/train.csv.zip\n",
            "57602533/57602533 [==============================] - 55s 1us/step\n"
          ]
        }
      ]
    },
    {
      "cell_type": "code",
      "source": [
        "from zipfile import ZipFile\n",
        "from tqdm import tqdm\n",
        "# Extract zip\n",
        "with ZipFile(fname, \"r\") as zip:\n",
        "  zip.printdir()\n",
        "  files_list = zip.namelist()\n",
        "  print(\"Extracting files\")\n",
        "  for file in tqdm(iterable = files_list, total = len(files_list)):\n",
        "    zip.extract(\"train.csv\", os.path.join(os.getcwd(), \"quora_dataset\"))"
      ],
      "metadata": {
        "colab": {
          "base_uri": "https://localhost:8080/"
        },
        "id": "B1RZN5u8Y3mU",
        "outputId": "4dfe1f5e-51e6-4302-efba-fcd5da099a1c"
      },
      "execution_count": 5,
      "outputs": [
        {
          "output_type": "stream",
          "name": "stdout",
          "text": [
            "File Name                                             Modified             Size\n",
            "train.csv                                      2019-12-11 04:05:42    124206772\n",
            "Extracting files\n"
          ]
        },
        {
          "output_type": "stream",
          "name": "stderr",
          "text": [
            "100%|██████████| 1/1 [00:02<00:00,  2.04s/it]\n"
          ]
        }
      ]
    },
    {
      "cell_type": "code",
      "source": [
        "data = pd.read_csv(\"quora_dataset/train.csv\")\n",
        "data.sample(10)"
      ],
      "metadata": {
        "id": "7A8w3PbyaPq9",
        "colab": {
          "base_uri": "https://localhost:8080/",
          "height": 363
        },
        "outputId": "99c5db8d-92df-4175-a266-745aaf88e800"
      },
      "execution_count": 6,
      "outputs": [
        {
          "output_type": "execute_result",
          "data": {
            "text/plain": [
              "                          qid   \n",
              "1281156  fb157e0a95a5f909ff6a  \\\n",
              "1292716  fd5cc1a3e687f15d38c8   \n",
              "797641   9c4c4e0fbf73990088f3   \n",
              "282824   375f7398f26b0631ec8d   \n",
              "928491   b5f5e07065c8fcf3032c   \n",
              "1201149  eb67eb44dce264fa406b   \n",
              "742526   916e6b0f89529fde3584   \n",
              "1220573  ef38e389dd1f10ec7d48   \n",
              "541129   6a050280bdcb86aba056   \n",
              "222185   2b772918d151ccbfa702   \n",
              "\n",
              "                                             question_text  target  \n",
              "1281156                Which is the best PC strategy game?       0  \n",
              "1292716          Which is the best SUV under good mileage?       0  \n",
              "797641   A girl responds with me normally even after hu...       0  \n",
              "282824   What is the age of JESUS on the first day of t...       0  \n",
              "928491   Why does the media strongly favor left wing po...       1  \n",
              "1201149  What will happen if you play loud nasheed musi...       0  \n",
              "742526   If you don't want to catch up with an old frie...       0  \n",
              "1220573  How do I avoid paying extra VAT while shopping...       0  \n",
              "541129   Why do girls that dress like sluts get upset w...       1  \n",
              "222185   Why has religious competition in Europe, espec...       0  "
            ],
            "text/html": [
              "\n",
              "  <div id=\"df-ec41642d-52e0-4a2d-9977-9103954f0e59\">\n",
              "    <div class=\"colab-df-container\">\n",
              "      <div>\n",
              "<style scoped>\n",
              "    .dataframe tbody tr th:only-of-type {\n",
              "        vertical-align: middle;\n",
              "    }\n",
              "\n",
              "    .dataframe tbody tr th {\n",
              "        vertical-align: top;\n",
              "    }\n",
              "\n",
              "    .dataframe thead th {\n",
              "        text-align: right;\n",
              "    }\n",
              "</style>\n",
              "<table border=\"1\" class=\"dataframe\">\n",
              "  <thead>\n",
              "    <tr style=\"text-align: right;\">\n",
              "      <th></th>\n",
              "      <th>qid</th>\n",
              "      <th>question_text</th>\n",
              "      <th>target</th>\n",
              "    </tr>\n",
              "  </thead>\n",
              "  <tbody>\n",
              "    <tr>\n",
              "      <th>1281156</th>\n",
              "      <td>fb157e0a95a5f909ff6a</td>\n",
              "      <td>Which is the best PC strategy game?</td>\n",
              "      <td>0</td>\n",
              "    </tr>\n",
              "    <tr>\n",
              "      <th>1292716</th>\n",
              "      <td>fd5cc1a3e687f15d38c8</td>\n",
              "      <td>Which is the best SUV under good mileage?</td>\n",
              "      <td>0</td>\n",
              "    </tr>\n",
              "    <tr>\n",
              "      <th>797641</th>\n",
              "      <td>9c4c4e0fbf73990088f3</td>\n",
              "      <td>A girl responds with me normally even after hu...</td>\n",
              "      <td>0</td>\n",
              "    </tr>\n",
              "    <tr>\n",
              "      <th>282824</th>\n",
              "      <td>375f7398f26b0631ec8d</td>\n",
              "      <td>What is the age of JESUS on the first day of t...</td>\n",
              "      <td>0</td>\n",
              "    </tr>\n",
              "    <tr>\n",
              "      <th>928491</th>\n",
              "      <td>b5f5e07065c8fcf3032c</td>\n",
              "      <td>Why does the media strongly favor left wing po...</td>\n",
              "      <td>1</td>\n",
              "    </tr>\n",
              "    <tr>\n",
              "      <th>1201149</th>\n",
              "      <td>eb67eb44dce264fa406b</td>\n",
              "      <td>What will happen if you play loud nasheed musi...</td>\n",
              "      <td>0</td>\n",
              "    </tr>\n",
              "    <tr>\n",
              "      <th>742526</th>\n",
              "      <td>916e6b0f89529fde3584</td>\n",
              "      <td>If you don't want to catch up with an old frie...</td>\n",
              "      <td>0</td>\n",
              "    </tr>\n",
              "    <tr>\n",
              "      <th>1220573</th>\n",
              "      <td>ef38e389dd1f10ec7d48</td>\n",
              "      <td>How do I avoid paying extra VAT while shopping...</td>\n",
              "      <td>0</td>\n",
              "    </tr>\n",
              "    <tr>\n",
              "      <th>541129</th>\n",
              "      <td>6a050280bdcb86aba056</td>\n",
              "      <td>Why do girls that dress like sluts get upset w...</td>\n",
              "      <td>1</td>\n",
              "    </tr>\n",
              "    <tr>\n",
              "      <th>222185</th>\n",
              "      <td>2b772918d151ccbfa702</td>\n",
              "      <td>Why has religious competition in Europe, espec...</td>\n",
              "      <td>0</td>\n",
              "    </tr>\n",
              "  </tbody>\n",
              "</table>\n",
              "</div>\n",
              "      <button class=\"colab-df-convert\" onclick=\"convertToInteractive('df-ec41642d-52e0-4a2d-9977-9103954f0e59')\"\n",
              "              title=\"Convert this dataframe to an interactive table.\"\n",
              "              style=\"display:none;\">\n",
              "        \n",
              "  <svg xmlns=\"http://www.w3.org/2000/svg\" height=\"24px\"viewBox=\"0 0 24 24\"\n",
              "       width=\"24px\">\n",
              "    <path d=\"M0 0h24v24H0V0z\" fill=\"none\"/>\n",
              "    <path d=\"M18.56 5.44l.94 2.06.94-2.06 2.06-.94-2.06-.94-.94-2.06-.94 2.06-2.06.94zm-11 1L8.5 8.5l.94-2.06 2.06-.94-2.06-.94L8.5 2.5l-.94 2.06-2.06.94zm10 10l.94 2.06.94-2.06 2.06-.94-2.06-.94-.94-2.06-.94 2.06-2.06.94z\"/><path d=\"M17.41 7.96l-1.37-1.37c-.4-.4-.92-.59-1.43-.59-.52 0-1.04.2-1.43.59L10.3 9.45l-7.72 7.72c-.78.78-.78 2.05 0 2.83L4 21.41c.39.39.9.59 1.41.59.51 0 1.02-.2 1.41-.59l7.78-7.78 2.81-2.81c.8-.78.8-2.07 0-2.86zM5.41 20L4 18.59l7.72-7.72 1.47 1.35L5.41 20z\"/>\n",
              "  </svg>\n",
              "      </button>\n",
              "      \n",
              "  <style>\n",
              "    .colab-df-container {\n",
              "      display:flex;\n",
              "      flex-wrap:wrap;\n",
              "      gap: 12px;\n",
              "    }\n",
              "\n",
              "    .colab-df-convert {\n",
              "      background-color: #E8F0FE;\n",
              "      border: none;\n",
              "      border-radius: 50%;\n",
              "      cursor: pointer;\n",
              "      display: none;\n",
              "      fill: #1967D2;\n",
              "      height: 32px;\n",
              "      padding: 0 0 0 0;\n",
              "      width: 32px;\n",
              "    }\n",
              "\n",
              "    .colab-df-convert:hover {\n",
              "      background-color: #E2EBFA;\n",
              "      box-shadow: 0px 1px 2px rgba(60, 64, 67, 0.3), 0px 1px 3px 1px rgba(60, 64, 67, 0.15);\n",
              "      fill: #174EA6;\n",
              "    }\n",
              "\n",
              "    [theme=dark] .colab-df-convert {\n",
              "      background-color: #3B4455;\n",
              "      fill: #D2E3FC;\n",
              "    }\n",
              "\n",
              "    [theme=dark] .colab-df-convert:hover {\n",
              "      background-color: #434B5C;\n",
              "      box-shadow: 0px 1px 3px 1px rgba(0, 0, 0, 0.15);\n",
              "      filter: drop-shadow(0px 1px 2px rgba(0, 0, 0, 0.3));\n",
              "      fill: #FFFFFF;\n",
              "    }\n",
              "  </style>\n",
              "\n",
              "      <script>\n",
              "        const buttonEl =\n",
              "          document.querySelector('#df-ec41642d-52e0-4a2d-9977-9103954f0e59 button.colab-df-convert');\n",
              "        buttonEl.style.display =\n",
              "          google.colab.kernel.accessAllowed ? 'block' : 'none';\n",
              "\n",
              "        async function convertToInteractive(key) {\n",
              "          const element = document.querySelector('#df-ec41642d-52e0-4a2d-9977-9103954f0e59');\n",
              "          const dataTable =\n",
              "            await google.colab.kernel.invokeFunction('convertToInteractive',\n",
              "                                                     [key], {});\n",
              "          if (!dataTable) return;\n",
              "\n",
              "          const docLinkHtml = 'Like what you see? Visit the ' +\n",
              "            '<a target=\"_blank\" href=https://colab.research.google.com/notebooks/data_table.ipynb>data table notebook</a>'\n",
              "            + ' to learn more about interactive tables.';\n",
              "          element.innerHTML = '';\n",
              "          dataTable['output_type'] = 'display_data';\n",
              "          await google.colab.output.renderOutput(dataTable, element);\n",
              "          const docLink = document.createElement('div');\n",
              "          docLink.innerHTML = docLinkHtml;\n",
              "          element.appendChild(docLink);\n",
              "        }\n",
              "      </script>\n",
              "    </div>\n",
              "  </div>\n",
              "  "
            ]
          },
          "metadata": {},
          "execution_count": 6
        }
      ]
    },
    {
      "cell_type": "code",
      "source": [
        "data.info()"
      ],
      "metadata": {
        "id": "Gph72bBkbbA_",
        "colab": {
          "base_uri": "https://localhost:8080/"
        },
        "outputId": "500ae0f0-1d31-4194-adc3-3929b7081d83"
      },
      "execution_count": 7,
      "outputs": [
        {
          "output_type": "stream",
          "name": "stdout",
          "text": [
            "<class 'pandas.core.frame.DataFrame'>\n",
            "RangeIndex: 1306122 entries, 0 to 1306121\n",
            "Data columns (total 3 columns):\n",
            " #   Column         Non-Null Count    Dtype \n",
            "---  ------         --------------    ----- \n",
            " 0   qid            1306122 non-null  object\n",
            " 1   question_text  1306122 non-null  object\n",
            " 2   target         1306122 non-null  int64 \n",
            "dtypes: int64(1), object(2)\n",
            "memory usage: 29.9+ MB\n"
          ]
        }
      ]
    },
    {
      "cell_type": "code",
      "source": [
        "# Check for missing values\n",
        "data.isna().sum()"
      ],
      "metadata": {
        "colab": {
          "base_uri": "https://localhost:8080/"
        },
        "id": "06LG1n_Z1qy1",
        "outputId": "35f741d9-f790-45ec-8756-f61695abe619"
      },
      "execution_count": 8,
      "outputs": [
        {
          "output_type": "execute_result",
          "data": {
            "text/plain": [
              "qid              0\n",
              "question_text    0\n",
              "target           0\n",
              "dtype: int64"
            ]
          },
          "metadata": {},
          "execution_count": 8
        }
      ]
    },
    {
      "cell_type": "code",
      "source": [
        "# Distribution of target\n",
        "data[\"target\"].value_counts(normalize=True).plot(kind = \"bar\", title = \"Target Distribution\")\n",
        "plt.show();"
      ],
      "metadata": {
        "colab": {
          "base_uri": "https://localhost:8080/",
          "height": 467
        },
        "id": "2sbpIJyeokv4",
        "outputId": "f2a27df4-b8c4-4fc6-9acb-5a289ad1beb6"
      },
      "execution_count": 9,
      "outputs": [
        {
          "output_type": "display_data",
          "data": {
            "text/plain": [
              "<Figure size 640x480 with 1 Axes>"
            ],
            "image/png": "[encoded data removed]"
          },
          "metadata": {}
        }
      ]
    },
    {
      "cell_type": "markdown",
      "source": [
        "* We have a skewed target distribution.\n",
        "* We will perform a stratified train test split to maintain the distribution of target in both train and validation split"
      ],
      "metadata": {
        "id": "U5a_bmc2tcMf"
      }
    },
    {
      "cell_type": "code",
      "source": [
        "data[\"text_word_count\"] = data[\"question_text\"].str.split().apply(len)\n",
        "plt.hist(data[\"text_word_count\"], bins=50, density=True)\n",
        "plt.xlabel(\"Word count\")\n",
        "plt.ylabel(\"Density\")\n",
        "plt.title(\"Word Count Distribution\")\n",
        "plt.show();"
      ],
      "metadata": {
        "colab": {
          "base_uri": "https://localhost:8080/",
          "height": 472
        },
        "id": "3hjpSpY1bN3_",
        "outputId": "b0488ffd-8a43-4b6e-cb4f-57b9b8f297a7"
      },
      "execution_count": 10,
      "outputs": [
        {
          "output_type": "display_data",
          "data": {
            "text/plain": [
              "<Figure size 640x480 with 1 Axes>"
            ],
            "image/png": "[encoded data removed]"
          },
          "metadata": {}
        }
      ]
    },
    {
      "cell_type": "code",
      "source": [
        "fig, [ax1,ax2] = plt.subplots(1,2,figsize = (12,4))\n",
        "ax1.hist(data[data[\"target\"]==1][\"text_word_count\"], bins=50, density=True)\n",
        "ax2.hist(data[data[\"target\"]==0][\"text_word_count\"], bins=50, density=True)\n",
        "ax1.set(title = \"Word count distribution in Insincere questions\")\n",
        "ax2.set(title = \"Word count distribution in Sincere questions\")\n",
        "plt.show();"
      ],
      "metadata": {
        "colab": {
          "base_uri": "https://localhost:8080/",
          "height": 391
        },
        "id": "jzCaNw47bNs9",
        "outputId": "b8491bab-c75a-4810-ea50-97b7803776c6"
      },
      "execution_count": 11,
      "outputs": [
        {
          "output_type": "display_data",
          "data": {
            "text/plain": [
              "<Figure size 1200x400 with 2 Axes>"
            ],
            "image/png": "[encoded data removed]"
          },
          "metadata": {}
        }
      ]
    },
    {
      "cell_type": "markdown",
      "source": [
        "### Train Test split\n",
        "\n",
        "* We will work with around 10k data points for training and 1k data points for validation as training on the entire data will take hours on Colab GPU"
      ],
      "metadata": {
        "id": "24gSmN_6v124"
      }
    },
    {
      "cell_type": "code",
      "source": [
        "# Stratified train test split\n",
        "df_train, remaining = train_test_split(data, train_size = 0.0075, stratify = data[\"target\"])"
      ],
      "metadata": {
        "id": "PRsOFUbQqBDc"
      },
      "execution_count": 12,
      "outputs": []
    },
    {
      "cell_type": "code",
      "source": [
        "df_val, _ = train_test_split(remaining, train_size = 0.00075, stratify = remaining[\"target\"])"
      ],
      "metadata": {
        "id": "NZypb6WHvzbW"
      },
      "execution_count": 13,
      "outputs": []
    },
    {
      "cell_type": "code",
      "source": [
        "print(\"Shape of training data = \", df_train.shape)\n",
        "print(\"Shape of validation data = \", df_val.shape)"
      ],
      "metadata": {
        "colab": {
          "base_uri": "https://localhost:8080/"
        },
        "id": "ne5GR7CItt-e",
        "outputId": "bfe58b18-7fa1-482d-9861-42f5d4faf830"
      },
      "execution_count": 14,
      "outputs": [
        {
          "output_type": "stream",
          "name": "stdout",
          "text": [
            "Shape of training data =  (9795, 4)\n",
            "Shape of validation data =  (972, 4)\n"
          ]
        }
      ]
    },
    {
      "cell_type": "code",
      "source": [
        "# Distribution of target in training and validation sets\n",
        "print(\"Target distribution in training split:\")\n",
        "print(df_train[\"target\"].value_counts(normalize = True))\n",
        "print(\"\\nTarget distribution in validation split:\")\n",
        "print(df_val[\"target\"].value_counts(normalize = True))"
      ],
      "metadata": {
        "colab": {
          "base_uri": "https://localhost:8080/"
        },
        "id": "R6T5sXQVt9wp",
        "outputId": "d7db75fc-13cd-4c08-e179-f50bf6bac669"
      },
      "execution_count": 15,
      "outputs": [
        {
          "output_type": "stream",
          "name": "stdout",
          "text": [
            "Target distribution in training split:\n",
            "target\n",
            "0    0.938132\n",
            "1    0.061868\n",
            "Name: proportion, dtype: float64\n",
            "\n",
            "Target distribution in validation split:\n",
            "target\n",
            "0    0.938272\n",
            "1    0.061728\n",
            "Name: proportion, dtype: float64\n"
          ]
        }
      ]
    },
    {
      "cell_type": "markdown",
      "source": [
        "## Input Pipeline"
      ],
      "metadata": {
        "id": "CZkVhaD7xMm3"
      }
    },
    {
      "cell_type": "markdown",
      "source": [
        "* BERT is expensive to train and has slower inference time because of its large size and 109 million params. Another cause is the input/output bottleneck due to writing data backforth to CPU and GPU.\n",
        "\n",
        "* Tensorflow's tf.data API help us design flexible and efficient input pipelines and address above issues."
      ],
      "metadata": {
        "id": "EnuBNbnYxO7-"
      }
    },
    {
      "cell_type": "code",
      "source": [
        "# Get the text and target from the dataframe\n",
        "train_text = tf.convert_to_tensor(df_train[\"question_text\"].values.reshape((df_train.shape[0],-1)))\n",
        "train_target = tf.convert_to_tensor(df_train[\"target\"].values.reshape((df_train.shape[0],-1)))\n",
        "val_text = tf.convert_to_tensor(df_val[\"question_text\"].values.reshape((df_val.shape[0],-1)))\n",
        "val_target = tf.convert_to_tensor(df_val[\"target\"].values.reshape((df_val.shape[0],-1)))"
      ],
      "metadata": {
        "id": "TBU2vbebzUNt"
      },
      "execution_count": 16,
      "outputs": []
    },
    {
      "cell_type": "code",
      "source": [
        "type(train_text)"
      ],
      "metadata": {
        "colab": {
          "base_uri": "https://localhost:8080/"
        },
        "id": "zQZ8y6Nm0CP8",
        "outputId": "1c977853-bdda-4df4-a58a-afd4698cee67"
      },
      "execution_count": 17,
      "outputs": [
        {
          "output_type": "execute_result",
          "data": {
            "text/plain": [
              "tensorflow.python.framework.ops.EagerTensor"
            ]
          },
          "metadata": {},
          "execution_count": 17
        }
      ]
    },
    {
      "cell_type": "code",
      "source": [
        "print(\"Above tensors are placed on:\")\n",
        "print(\"train_text:\", train_text.device)\n",
        "print(\"train_target:\", train_target.device)\n",
        "print(\"val_text:\", train_text.device)\n",
        "print(\"val_target:\", train_text.device)"
      ],
      "metadata": {
        "colab": {
          "base_uri": "https://localhost:8080/"
        },
        "id": "-eg4POTa2igy",
        "outputId": "79055f78-e423-4afe-add1-d1ae53c5ba5b"
      },
      "execution_count": 18,
      "outputs": [
        {
          "output_type": "stream",
          "name": "stdout",
          "text": [
            "Above tensors are placed on:\n",
            "train_text: /job:localhost/replica:0/task:0/device:GPU:0\n",
            "train_target: /job:localhost/replica:0/task:0/device:GPU:0\n",
            "val_text: /job:localhost/replica:0/task:0/device:GPU:0\n",
            "val_target: /job:localhost/replica:0/task:0/device:GPU:0\n"
          ]
        }
      ]
    },
    {
      "cell_type": "markdown",
      "source": [
        "* To avoid GPU overhead we will create the dataset and apply all transformations on CPU"
      ],
      "metadata": {
        "id": "8f-q2SAw0QFs"
      }
    },
    {
      "cell_type": "code",
      "source": [
        "# List all the available CPUs\n",
        "tf.config.list_physical_devices(\"CPU\")"
      ],
      "metadata": {
        "colab": {
          "base_uri": "https://localhost:8080/"
        },
        "id": "lof9QDyX0Gss",
        "outputId": "43cf9389-02f4-428d-d14d-77080b447b67"
      },
      "execution_count": 19,
      "outputs": [
        {
          "output_type": "execute_result",
          "data": {
            "text/plain": [
              "[PhysicalDevice(name='/physical_device:CPU:0', device_type='CPU')]"
            ]
          },
          "metadata": {},
          "execution_count": 19
        }
      ]
    },
    {
      "cell_type": "code",
      "source": [
        "# If the data is already in memory we can use the from_tensor_slices() function to create the dataset\n",
        "with tf.device('/cpu:0'):\n",
        "  train_dataset = tf.data.Dataset.from_tensor_slices((train_text, tf.squeeze(train_target)))\n",
        "  val_dataset = tf.data.Dataset.from_tensor_slices((val_text, tf.squeeze(val_target)))"
      ],
      "metadata": {
        "id": "M1j8NGGz0f8h"
      },
      "execution_count": 48,
      "outputs": []
    },
    {
      "cell_type": "code",
      "source": [
        "with tf.device('/cpu:0'):\n",
        "  iterator = train_dataset.as_numpy_iterator() # returns a numpy array as iterator\n",
        "  for _ in range(3):\n",
        "    text, label = iterator.next()\n",
        "    print(\"Text =\", text)\n",
        "    print(\"Label =\", label)\n",
        "\n",
        "# The following piece of code will return a tf.tensor\n",
        "# for text, label in train_dataset.take(1):\n",
        "#   print(\"Text = \", text)\n",
        "#   print(\"Label = \", label)"
      ],
      "metadata": {
        "colab": {
          "base_uri": "https://localhost:8080/"
        },
        "id": "WlfN3ejK2OQx",
        "outputId": "d119e63b-9f19-4b5f-e3f5-f35d3c5bf4ee"
      },
      "execution_count": 21,
      "outputs": [
        {
          "output_type": "stream",
          "name": "stdout",
          "text": [
            "Text = [b'What are the best paid fields in science except engineering and medical?']\n",
            "Label = 0\n",
            "Text = [b'How does one compute the period of any pseudo-random number generator?']\n",
            "Label = 0\n",
            "Text = [b'Can the OBS, SC and ST candidates compete for the general seats even after opting for their own reservation?']\n",
            "Label = 0\n"
          ]
        }
      ]
    },
    {
      "cell_type": "markdown",
      "source": [
        "## Text preprocessing"
      ],
      "metadata": {
        "id": "KZgoQFZH9PoN"
      }
    },
    {
      "cell_type": "code",
      "source": [
        "# Import the preprocessing modules from the downloaded \"models\" repo\n",
        "import sys\n",
        "sys.path.append(\"models\")\n",
        "from models.official.nlp.data import classifier_data_lib\n",
        "from models.official.nlp.tools import tokenization\n",
        "from models.official.nlp import optimization"
      ],
      "metadata": {
        "id": "SZadbE2s2OKj"
      },
      "execution_count": 63,
      "outputs": []
    },
    {
      "cell_type": "markdown",
      "source": [
        "Each data point of the dataset is composed of the question text and its label\n",
        "- Data preprocessing consists of transforming text to BERT input features:\n",
        "input_word_ids, input_mask, segment_ids\n",
        "- In the process, tokenizing the text is done with the provided BERT model tokenizer\n"
      ],
      "metadata": {
        "id": "SyL5yAsqFMnk"
      }
    },
    {
      "cell_type": "code",
      "source": [
        "labels = [0, 1]\n",
        "BATCH_SIZE = 32\n",
        "max_seq_len = 128 #maximum length of each sequence"
      ],
      "metadata": {
        "id": "0X7JR-wPDhkz"
      },
      "execution_count": 23,
      "outputs": []
    },
    {
      "cell_type": "code",
      "source": [
        "# Get BERT layer\n",
        "# More details here: https://tfhub.dev/tensorflow/bert_en_uncased_L-12_H-768_A-12/2\n",
        "\n",
        "bert_layer = tf_hub.KerasLayer(\"https://tfhub.dev/tensorflow/bert_en_uncased_L-12_H-768_A-12/4\", trainable=True)"
      ],
      "metadata": {
        "id": "Hl0U3qQd2OFQ"
      },
      "execution_count": 24,
      "outputs": []
    },
    {
      "cell_type": "markdown",
      "source": [
        "#### Create Lookup table for tokenization"
      ],
      "metadata": {
        "id": "2YMgcN7Ti7Bo"
      }
    },
    {
      "cell_type": "code",
      "source": [
        "# Get the vocab file\n",
        "vocab_file = bert_layer.resolved_object.vocab_file.asset_path.numpy()\n",
        "# Check if the loaded bert model cased or uncased\n",
        "do_lower_case = bert_layer.resolved_object.do_lower_case.numpy()"
      ],
      "metadata": {
        "id": "WiU59cLi4-Gv"
      },
      "execution_count": 25,
      "outputs": []
    },
    {
      "cell_type": "code",
      "source": [
        "print(\"Vocab_file path:\", vocab_file.decode(\"utf-8\"))\n",
        "print(\"uncased model:\", do_lower_case)"
      ],
      "metadata": {
        "colab": {
          "base_uri": "https://localhost:8080/"
        },
        "id": "yQ3or_Qt5oCd",
        "outputId": "81bb9f5a-bc4c-4230-8f62-e267488cd397"
      },
      "execution_count": 26,
      "outputs": [
        {
          "output_type": "stream",
          "name": "stdout",
          "text": [
            "Vocab_file path: /tmp/tfhub_modules/d760773f85f64fc84ae0b47310f7cfe3bcec4868/assets/vocab.txt\n",
            "uncased model: True\n"
          ]
        }
      ]
    },
    {
      "cell_type": "code",
      "source": [
        "# Load the vocab file that corresponds to the pretrained BERT\n",
        "def load_vocab(vocab_file):\n",
        "  \"Load the vocabulary into a list\"\n",
        "  vocab = []\n",
        "  with tf.io.gfile.GFile(vocab_file, \"r\") as reader:\n",
        "    while True:\n",
        "      token = reader.readline()\n",
        "      if not token: break\n",
        "      token = token.strip()\n",
        "      vocab.append(token)\n",
        "  return vocab\n",
        "\n",
        "# Use BERT vocab to create a word to index lookup table\n",
        "def create_vocab_table(vocab, num_oov_buckets=1):\n",
        "  \"\"\"Create a lookup table for a vocabulary\"\"\"\n",
        "  vocab_values = tf.range(tf.size(vocab, out_type=tf.int64), dtype=tf.int64)\n",
        "  init = tf.lookup.KeyValueTensorInitializer(keys=vocab, values=vocab_values, key_dtype=tf.string, value_dtype=tf.int64)\n",
        "  vocab_table = tf.lookup.StaticVocabularyTable(init, num_oov_buckets, lookup_key_dtype=tf.string)\n",
        "  return vocab_table\n",
        "\n",
        "# Use BERT vocab to create a index to word lookup table\n",
        "def create_index2token(vocab):\n",
        "  # Create a lookup table for a index to token\n",
        "  vocab_values = tf.range(tf.size(vocab, out_type=tf.int64), dtype=tf.int64)\n",
        "  init = tf.lookup.KeyValueTensorInitializer(keys=vocab_values, values=vocab)\n",
        "  return tf.lookup.StaticHashTable(initializer=init, default_value=tf.constant('unk'), name=\"index2word\")"
      ],
      "metadata": {
        "id": "8DF2YSa7-LtG"
      },
      "execution_count": 27,
      "outputs": []
    },
    {
      "cell_type": "code",
      "source": [
        "# Load the vocabulary into a list\n",
        "vocab_list = load_vocab(vocab_file.decode(\"utf-8\"))\n",
        "# Create a vocabulary lookup table from BERT vocab\n",
        "vocab_lookup_table = create_vocab_table(vocab_list)\n",
        "# A lookup table mapping integer indices to words\n",
        "index2token_lookup = create_index2token(vocab_list)"
      ],
      "metadata": {
        "id": "3kuSIEpUKQGe"
      },
      "execution_count": 28,
      "outputs": []
    },
    {
      "cell_type": "code",
      "source": [
        "# Check the integer indices of the following tokens in the vocabilary lookup table\n",
        "vocab_lookup_table.lookup(tf.constant(['[PAD]', '[UNK]', '[CLS]', '[SEP]', '[MASK]']))"
      ],
      "metadata": {
        "colab": {
          "base_uri": "https://localhost:8080/"
        },
        "id": "ckCMVh-T-LnJ",
        "outputId": "e341aa49-fdb1-4a8e-a3b5-e5035ea9e608"
      },
      "execution_count": 29,
      "outputs": [
        {
          "output_type": "execute_result",
          "data": {
            "text/plain": [
              "<tf.Tensor: shape=(5,), dtype=int64, numpy=array([  0, 100, 101, 102, 103])>"
            ]
          },
          "metadata": {},
          "execution_count": 29
        }
      ]
    },
    {
      "cell_type": "code",
      "source": [
        "# Check out the token corresponding to an index in the int2token looup table\n",
        "index2token_lookup.lookup(tf.constant([0], dtype='int64'))"
      ],
      "metadata": {
        "colab": {
          "base_uri": "https://localhost:8080/"
        },
        "id": "mip_v0f7-LkI",
        "outputId": "eabf06ce-f319-4861-9786-f66976909796"
      },
      "execution_count": 30,
      "outputs": [
        {
          "output_type": "execute_result",
          "data": {
            "text/plain": [
              "<tf.Tensor: shape=(1,), dtype=string, numpy=array([b'[PAD]'], dtype=object)>"
            ]
          },
          "metadata": {},
          "execution_count": 30
        }
      ]
    },
    {
      "cell_type": "markdown",
      "source": [
        "#### Preprocess the text"
      ],
      "metadata": {
        "id": "BMxo8uHxjG_h"
      }
    },
    {
      "cell_type": "code",
      "source": [
        "# Instantiate a bert tokenizer \n",
        "tokenizer = tf_text.BertTokenizer(\n",
        "    vocab_lookup_table,\n",
        "    token_out_type = tf.int64,\n",
        "    lower_case = do_lower_case\n",
        ")"
      ],
      "metadata": {
        "id": "Uvg4FNcy-LhL"
      },
      "execution_count": 31,
      "outputs": []
    },
    {
      "cell_type": "code",
      "source": [
        "# Test the tokenizer\n",
        "# Here we get the index of token as we had specified \n",
        "#token_out_type as int (if we specify string then we get words)\n",
        "tokens = tokenizer.tokenize([\"Hi, How are you doing ?\"])\n",
        "tokens"
      ],
      "metadata": {
        "colab": {
          "base_uri": "https://localhost:8080/"
        },
        "id": "mWhf71sp9JsA",
        "outputId": "1622623e-5adc-4bee-b3dd-d9c5e4f55d16"
      },
      "execution_count": 32,
      "outputs": [
        {
          "output_type": "execute_result",
          "data": {
            "text/plain": [
              "<tf.RaggedTensor [[[7632],\n",
              "  [1010],\n",
              "  [2129],\n",
              "  [2024],\n",
              "  [2017],\n",
              "  [2725],\n",
              "  [1029]]]>"
            ]
          },
          "metadata": {},
          "execution_count": 32
        }
      ]
    },
    {
      "cell_type": "code",
      "source": [
        "# flatten the output ragged tensors and search in tokens looup table\n",
        "index2token_lookup.lookup(tokens.merge_dims(-2,-1)[:, :])"
      ],
      "metadata": {
        "colab": {
          "base_uri": "https://localhost:8080/"
        },
        "id": "GbkVPVhHXv6Y",
        "outputId": "1c02ee0d-d99f-4bb2-bd79-2618238218c2"
      },
      "execution_count": 33,
      "outputs": [
        {
          "output_type": "execute_result",
          "data": {
            "text/plain": [
              "<tf.RaggedTensor [[b'hi', b',', b'how', b'are', b'you', b'doing', b'?']]>"
            ]
          },
          "metadata": {},
          "execution_count": 33
        }
      ]
    },
    {
      "cell_type": "code",
      "source": [
        "#Lookup for the BERT token IDs for padding and start/end of sentence.\n",
        "PAD_ID = vocab_lookup_table.lookup(tf.constant('[PAD]')) # padding token\n",
        "CLS_ID = vocab_lookup_table.lookup(tf.constant('[CLS]')) # class token\n",
        "SEP_ID = vocab_lookup_table.lookup(tf.constant('[SEP]')) # sequence separator token"
      ],
      "metadata": {
        "id": "1JGy2pUaT84F"
      },
      "execution_count": 34,
      "outputs": []
    },
    {
      "cell_type": "code",
      "source": [
        "# function to use in dataset.map()\n",
        "def preprocess(x,y):\n",
        "  return preprocess_bert_input(x, max_seq_len, tokenizer), y\n",
        "\n",
        "# Function to convert text into input format accepted by BERT\n",
        "def preprocess_bert_input(text, max_seq_len, tokenizer):\n",
        "  # input token ids\n",
        "  input_word_ids = tokenize_text(text, max_seq_len, tokenizer)\n",
        "  input_ids = tf.cast(input_word_ids, tf.int32)\n",
        "  # input mask\n",
        "  input_mask = tf.cast(input_ids > 0, tf.int32)\n",
        "  input_mask = tf.reshape(input_mask, [-1, max_seq_len])\n",
        "  # Token type ids\n",
        "  zeros_dims = tf.stack(tf.shape(input_mask))\n",
        "  input_type_ids = tf.fill(zeros_dims, 0)\n",
        "  input_type_ids = tf.cast(input_type_ids, tf.int32)\n",
        "  \n",
        "  input = dict(input_word_ids = tf.reshape(input_word_ids, [-1]),\n",
        "               input_mask = tf.reshape(input_mask, [-1]),\n",
        "               input_type_ids = tf.reshape(input_type_ids, [-1]))\n",
        "  # Return the ids\n",
        "  #return (tf.squeeze(input_ids), tf.squeeze(input_masks), tf.squeeze(input_type_ids))\n",
        "  return input\n",
        "\n",
        "# Function to tokenize a text\n",
        "def tokenize_text(text, max_seq_len, tokenizer):\n",
        "    '''\n",
        "    Args:\n",
        "    tokenizer: A bert tokenizer object\n",
        "    text: A tensor of rank >=1\n",
        "    max_seq_len: int\n",
        "    '''\n",
        "    # Convert text into tokens\n",
        "    # text.BertTokenizer returns a RaggedTensor with shape [batch, num_tokens, num_wordpieces]\n",
        "    tokens = tokenizer.tokenize(text)\n",
        "    # Flatten the resulting ragged tensor\n",
        "    tokens = tokens.merge_dims(-2,-1)\n",
        "    # Truncate sequences greater than max_seq_len-2(for CLS and SEP tokens)\n",
        "    tokens = tokens[:, :max_seq_len-2]\n",
        "    # Add CLS and SEP token ids\n",
        "    start_tokens = tf.fill([tf.shape(text)[0], 1], CLS_ID)\n",
        "    end_tokens = tf.fill([tf.shape(text)[0], 1], SEP_ID)\n",
        "    tokens = tf.concat([start_tokens, tokens, end_tokens], axis=1)\n",
        "    # Pad shorter sequences with PAD token id\n",
        "    tokens = tokens.to_tensor(default_value = PAD_ID)\n",
        "    pad = max_seq_len - tf.shape(tokens)[1]\n",
        "    tokens = tf.pad(tokens, [[0,0], [0, pad]], constant_values = PAD_ID)\n",
        "    # Reshape the word tokens ids to fit the output data structure of TFT\n",
        "    tokens = tf.reshape(tokens, [-1, max_seq_len])\n",
        "    return tokens\n",
        "  \n",
        "\n",
        "def test_func():\n",
        "  tex = [data[\"question_text\"].iloc[5]]\n",
        "  tex = tf.convert_to_tensor(tex, dtype = tf.string)\n",
        "  lab = np.array(data[\"target\"].iloc[5])\n",
        "  lab = tf.convert_to_tensor(lab, dtype = tf.int64)\n",
        "  #return tokenize_text(tex, 40, tokenizer)\n",
        "  #return preprocess_bert_input(tex, 40, tokenizer)\n",
        "  return preprocess(tex, lab)\n",
        "\n",
        "test_func()"
      ],
      "metadata": {
        "id": "BlA-Gzf0ZE9U",
        "colab": {
          "base_uri": "https://localhost:8080/"
        },
        "outputId": "f958b75b-2a5b-447d-8655-546a6729a225"
      },
      "execution_count": 35,
      "outputs": [
        {
          "output_type": "execute_result",
          "data": {
            "text/plain": [
              "({'input_word_ids': <tf.Tensor: shape=(128,), dtype=int64, numpy=\n",
              "  array([  101,  2003, 14474,  3254,  3352, 24363,  1010,  4830,  7507,\n",
              "          2226,  2030, 29461, 16558, 19839,  2050,  2005, 21524,  1029,\n",
              "           102,     0,     0,     0,     0,     0,     0,     0,     0,\n",
              "             0,     0,     0,     0,     0,     0,     0,     0,     0,\n",
              "             0,     0,     0,     0,     0,     0,     0,     0,     0,\n",
              "             0,     0,     0,     0,     0,     0,     0,     0,     0,\n",
              "             0,     0,     0,     0,     0,     0,     0,     0,     0,\n",
              "             0,     0,     0,     0,     0,     0,     0,     0,     0,\n",
              "             0,     0,     0,     0,     0,     0,     0,     0,     0,\n",
              "             0,     0,     0,     0,     0,     0,     0,     0,     0,\n",
              "             0,     0,     0,     0,     0,     0,     0,     0,     0,\n",
              "             0,     0,     0,     0,     0,     0,     0,     0,     0,\n",
              "             0,     0,     0,     0,     0,     0,     0,     0,     0,\n",
              "             0,     0,     0,     0,     0,     0,     0,     0,     0,\n",
              "             0,     0])>,\n",
              "  'input_mask': <tf.Tensor: shape=(128,), dtype=int32, numpy=\n",
              "  array([1, 1, 1, 1, 1, 1, 1, 1, 1, 1, 1, 1, 1, 1, 1, 1, 1, 1, 1, 0, 0, 0,\n",
              "         0, 0, 0, 0, 0, 0, 0, 0, 0, 0, 0, 0, 0, 0, 0, 0, 0, 0, 0, 0, 0, 0,\n",
              "         0, 0, 0, 0, 0, 0, 0, 0, 0, 0, 0, 0, 0, 0, 0, 0, 0, 0, 0, 0, 0, 0,\n",
              "         0, 0, 0, 0, 0, 0, 0, 0, 0, 0, 0, 0, 0, 0, 0, 0, 0, 0, 0, 0, 0, 0,\n",
              "         0, 0, 0, 0, 0, 0, 0, 0, 0, 0, 0, 0, 0, 0, 0, 0, 0, 0, 0, 0, 0, 0,\n",
              "         0, 0, 0, 0, 0, 0, 0, 0, 0, 0, 0, 0, 0, 0, 0, 0, 0, 0], dtype=int32)>,\n",
              "  'input_type_ids': <tf.Tensor: shape=(128,), dtype=int32, numpy=\n",
              "  array([0, 0, 0, 0, 0, 0, 0, 0, 0, 0, 0, 0, 0, 0, 0, 0, 0, 0, 0, 0, 0, 0,\n",
              "         0, 0, 0, 0, 0, 0, 0, 0, 0, 0, 0, 0, 0, 0, 0, 0, 0, 0, 0, 0, 0, 0,\n",
              "         0, 0, 0, 0, 0, 0, 0, 0, 0, 0, 0, 0, 0, 0, 0, 0, 0, 0, 0, 0, 0, 0,\n",
              "         0, 0, 0, 0, 0, 0, 0, 0, 0, 0, 0, 0, 0, 0, 0, 0, 0, 0, 0, 0, 0, 0,\n",
              "         0, 0, 0, 0, 0, 0, 0, 0, 0, 0, 0, 0, 0, 0, 0, 0, 0, 0, 0, 0, 0, 0,\n",
              "         0, 0, 0, 0, 0, 0, 0, 0, 0, 0, 0, 0, 0, 0, 0, 0, 0, 0], dtype=int32)>},\n",
              " <tf.Tensor: shape=(), dtype=int64, numpy=0>)"
            ]
          },
          "metadata": {},
          "execution_count": 35
        }
      ]
    },
    {
      "cell_type": "code",
      "source": [
        "# Here is another way of getting the inputs in above form using imoprted classifier_data_lib\n",
        "\n",
        "tknzr = tokenization.FullTokenizer(vocab_file, do_lower_case=do_lower_case)\n",
        "\n",
        "# Define a python function to convert into feature\n",
        "def to_feature(text, label, label_list=labels, max_seq_len=max_seq_len, tokenizer=tknzr):\n",
        "  # Construct a single input example\n",
        "  example = classifier_data_lib.InputExample(guid=None, \n",
        "                                             text_a=text.numpy(), \n",
        "                                             text_b=None, \n",
        "                                             label=label.numpy())\n",
        "  # Get the features of a single example\n",
        "  feature = classifier_data_lib.convert_single_example(0, example, labels, max_seq_len, tknzr)\n",
        "  # return the components of input feature\n",
        "  return feature.input_ids, feature.input_mask, feature.segment_ids, feature.label_id\n",
        "\n",
        "# Convert the function to be able to use in graph mode\n",
        "def to_feature_map(text, label):\n",
        "  input_word_ids, input_mask, input_type_ids, label_id = tf.py_function(to_feature, \n",
        "                                                                   inp = [text, label], \n",
        "                                                                   Tout = [tf.int32, tf.int32, tf.int32, tf.int32])\n",
        "  input_word_ids.set_shape([max_seq_len])\n",
        "  input_mask.set_shape([max_seq_len])\n",
        "  input_type_ids.set_shape([max_seq_len])\n",
        "  label_id.set_shape([])\n",
        "\n",
        "  input_feature = {\n",
        "      \"input_word_ids\": input_word_ids,\n",
        "      \"input_mask\": input_mask,\n",
        "      \"input_type_ids\": input_type_ids\n",
        "  }\n",
        "\n",
        "  return input_feature, label_id"
      ],
      "metadata": {
        "id": "nx9p3WIOhCRG"
      },
      "execution_count": 64,
      "outputs": []
    },
    {
      "cell_type": "code",
      "source": [
        "# Construct a single input example\n",
        "example = classifier_data_lib.InputExample(guid=None, \n",
        "                                            text_a=tex.numpy(), \n",
        "                                            text_b=None, \n",
        "                                            label=lab.numpy())\n",
        "# Get the features of a single example\n",
        "feature = classifier_data_lib.convert_single_example(0, example, labels, max_seq_len, tknzr)\n",
        "# return the components of input feature"
      ],
      "metadata": {
        "id": "1_kAHXCkamvq"
      },
      "execution_count": 67,
      "outputs": []
    },
    {
      "cell_type": "code",
      "source": [
        "type(feature.input_ids)"
      ],
      "metadata": {
        "colab": {
          "base_uri": "https://localhost:8080/"
        },
        "id": "yniewkIvaunA",
        "outputId": "00453b7d-0dab-477b-f08e-de5241862d5d"
      },
      "execution_count": 62,
      "outputs": [
        {
          "output_type": "execute_result",
          "data": {
            "text/plain": [
              "list"
            ]
          },
          "metadata": {},
          "execution_count": 62
        }
      ]
    },
    {
      "cell_type": "code",
      "source": [
        "# Test the above function\n",
        "tex = tf.convert_to_tensor(data[\"question_text\"].iloc[5])\n",
        "lab = tf.convert_to_tensor(data[\"target\"].iloc[5])\n",
        "# call the function\n",
        "feat = to_feature(tex, lab, label_list=labels, max_seq_len=40, tokenizer=tknzr)\n",
        "print(feat[0], feat[1], feat[2], feat[3],sep=\"\\n\")\n",
        "print()\n",
        "\n",
        "inp_feat, lab_id = to_feature_map(tex, lab)\n",
        "print(inp_feat)\n",
        "print(lab)"
      ],
      "metadata": {
        "colab": {
          "base_uri": "https://localhost:8080/"
        },
        "id": "n7TH4aZDOc_O",
        "outputId": "b3d75eca-3c95-4606-fdda-8ceea4ac50c1"
      },
      "execution_count": 56,
      "outputs": [
        {
          "output_type": "stream",
          "name": "stdout",
          "text": [
            "[101, 2003, 14474, 3254, 3352, 24363, 1010, 4830, 7507, 2226, 2030, 29461, 16558, 19839, 2050, 2005, 21524, 1029, 102, 0, 0, 0, 0, 0, 0, 0, 0, 0, 0, 0, 0, 0, 0, 0, 0, 0, 0, 0, 0, 0]\n",
            "[1, 1, 1, 1, 1, 1, 1, 1, 1, 1, 1, 1, 1, 1, 1, 1, 1, 1, 1, 0, 0, 0, 0, 0, 0, 0, 0, 0, 0, 0, 0, 0, 0, 0, 0, 0, 0, 0, 0, 0]\n",
            "[0, 0, 0, 0, 0, 0, 0, 0, 0, 0, 0, 0, 0, 0, 0, 0, 0, 0, 0, 0, 0, 0, 0, 0, 0, 0, 0, 0, 0, 0, 0, 0, 0, 0, 0, 0, 0, 0, 0, 0]\n",
            "0\n",
            "\n",
            "{'input_word_ids': <tf.Tensor: shape=(128,), dtype=int32, numpy=\n",
            "array([  101,  2003, 14474,  3254,  3352, 24363,  1010,  4830,  7507,\n",
            "        2226,  2030, 29461, 16558, 19839,  2050,  2005, 21524,  1029,\n",
            "         102,     0,     0,     0,     0,     0,     0,     0,     0,\n",
            "           0,     0,     0,     0,     0,     0,     0,     0,     0,\n",
            "           0,     0,     0,     0,     0,     0,     0,     0,     0,\n",
            "           0,     0,     0,     0,     0,     0,     0,     0,     0,\n",
            "           0,     0,     0,     0,     0,     0,     0,     0,     0,\n",
            "           0,     0,     0,     0,     0,     0,     0,     0,     0,\n",
            "           0,     0,     0,     0,     0,     0,     0,     0,     0,\n",
            "           0,     0,     0,     0,     0,     0,     0,     0,     0,\n",
            "           0,     0,     0,     0,     0,     0,     0,     0,     0,\n",
            "           0,     0,     0,     0,     0,     0,     0,     0,     0,\n",
            "           0,     0,     0,     0,     0,     0,     0,     0,     0,\n",
            "           0,     0,     0,     0,     0,     0,     0,     0,     0,\n",
            "           0,     0], dtype=int32)>, 'input_mask': <tf.Tensor: shape=(128,), dtype=int32, numpy=\n",
            "array([1, 1, 1, 1, 1, 1, 1, 1, 1, 1, 1, 1, 1, 1, 1, 1, 1, 1, 1, 0, 0, 0,\n",
            "       0, 0, 0, 0, 0, 0, 0, 0, 0, 0, 0, 0, 0, 0, 0, 0, 0, 0, 0, 0, 0, 0,\n",
            "       0, 0, 0, 0, 0, 0, 0, 0, 0, 0, 0, 0, 0, 0, 0, 0, 0, 0, 0, 0, 0, 0,\n",
            "       0, 0, 0, 0, 0, 0, 0, 0, 0, 0, 0, 0, 0, 0, 0, 0, 0, 0, 0, 0, 0, 0,\n",
            "       0, 0, 0, 0, 0, 0, 0, 0, 0, 0, 0, 0, 0, 0, 0, 0, 0, 0, 0, 0, 0, 0,\n",
            "       0, 0, 0, 0, 0, 0, 0, 0, 0, 0, 0, 0, 0, 0, 0, 0, 0, 0], dtype=int32)>, 'input_type_ids': <tf.Tensor: shape=(128,), dtype=int32, numpy=\n",
            "array([0, 0, 0, 0, 0, 0, 0, 0, 0, 0, 0, 0, 0, 0, 0, 0, 0, 0, 0, 0, 0, 0,\n",
            "       0, 0, 0, 0, 0, 0, 0, 0, 0, 0, 0, 0, 0, 0, 0, 0, 0, 0, 0, 0, 0, 0,\n",
            "       0, 0, 0, 0, 0, 0, 0, 0, 0, 0, 0, 0, 0, 0, 0, 0, 0, 0, 0, 0, 0, 0,\n",
            "       0, 0, 0, 0, 0, 0, 0, 0, 0, 0, 0, 0, 0, 0, 0, 0, 0, 0, 0, 0, 0, 0,\n",
            "       0, 0, 0, 0, 0, 0, 0, 0, 0, 0, 0, 0, 0, 0, 0, 0, 0, 0, 0, 0, 0, 0,\n",
            "       0, 0, 0, 0, 0, 0, 0, 0, 0, 0, 0, 0, 0, 0, 0, 0, 0, 0], dtype=int32)>}\n",
            "tf.Tensor(0, shape=(), dtype=int64)\n"
          ]
        }
      ]
    },
    {
      "cell_type": "code",
      "source": [
        "# Refer: https://stackoverflow.com/questions/63557955/tensorflow-2-3-attributeerror-tensor-object-has-no-attribute-numpy\n",
        "try:\n",
        "  train_dataset.map(lambda x,y: to_feature(x,y))\n",
        "except Exception as e:\n",
        "  print(\"Following error occured\\n\",e)"
      ],
      "metadata": {
        "colab": {
          "base_uri": "https://localhost:8080/"
        },
        "id": "yZMgo_idRVVV",
        "outputId": "a90f131e-f5c7-4257-8e09-ddab52fcb97e"
      },
      "execution_count": 38,
      "outputs": [
        {
          "output_type": "stream",
          "name": "stdout",
          "text": [
            "Following error occured\n",
            " in user code:\n",
            "\n",
            "    File \"<ipython-input-38-18fde11bd8a1>\", line 3, in None  *\n",
            "        lambda x,y: to_feature(x,y)\n",
            "    File \"<ipython-input-36-19f1a956de52>\", line 8, in to_feature  *\n",
            "        example = classifier_data_lib.InputExample(guid=None,\n",
            "\n",
            "    AttributeError: 'Tensor' object has no attribute 'numpy'\n",
            "\n"
          ]
        }
      ]
    },
    {
      "cell_type": "code",
      "source": [
        "# prepare the tf.data.Dataset\n",
        "AUTOTUNE = tf.data.AUTOTUNE\n",
        "train_dataset = (train_dataset.map(to_feature_map, num_parallel_calls = AUTOTUNE)\n",
        "                              .batch(32)\n",
        "                              .prefetch(AUTOTUNE))\n",
        "\n",
        "val_dataset = (val_dataset.map(to_feature_map, num_parallel_calls = AUTOTUNE)\n",
        "                          .batch(32)\n",
        "                          .prefetch(AUTOTUNE))"
      ],
      "metadata": {
        "id": "Vy6aQBnkFXO9"
      },
      "execution_count": 49,
      "outputs": []
    },
    {
      "cell_type": "code",
      "source": [
        "train_dataset.element_spec"
      ],
      "metadata": {
        "colab": {
          "base_uri": "https://localhost:8080/"
        },
        "id": "Go9ATJo1PnUY",
        "outputId": "7ff6afbe-38d3-4f4e-953b-cfcb9e849bda"
      },
      "execution_count": 50,
      "outputs": [
        {
          "output_type": "execute_result",
          "data": {
            "text/plain": [
              "({'input_word_ids': TensorSpec(shape=(None, 128), dtype=tf.int32, name=None),\n",
              "  'input_mask': TensorSpec(shape=(None, 128), dtype=tf.int32, name=None),\n",
              "  'input_type_ids': TensorSpec(shape=(None, 128), dtype=tf.int32, name=None)},\n",
              " TensorSpec(shape=(None,), dtype=tf.int32, name=None))"
            ]
          },
          "metadata": {},
          "execution_count": 50
        }
      ]
    },
    {
      "cell_type": "markdown",
      "source": [
        "# Build the model"
      ],
      "metadata": {
        "id": "Lda7tB05sAe-"
      }
    },
    {
      "cell_type": "code",
      "source": [
        "# Building the model\n",
        "def build_model():\n",
        "  encoder_inputs = dict(\n",
        "    input_word_ids = tf.keras.layers.Input(shape=(max_seq_len,), dtype=tf.int32),\n",
        "    input_mask = tf.keras.layers.Input(shape=(max_seq_len,), dtype=tf.int32),\n",
        "    input_type_ids = tf.keras.layers.Input(shape=(max_seq_len,), dtype=tf.int32),\n",
        "    )\n",
        "\n",
        "  enocder_outputs = bert_layer(encoder_inputs)\n",
        "\n",
        "  drop = tf.keras.layers.Dropout(0.4)(enocder_outputs[\"pooled_output\"])\n",
        "  output = tf.keras.layers.Dense(1, activation=\"sigmoid\", name=\"output\")(drop)\n",
        "\n",
        "  model = tf.keras.Model(inputs=encoder_inputs, outputs=output)\n",
        "  return model"
      ],
      "metadata": {
        "id": "y_n4ZO8VFbc0"
      },
      "execution_count": 51,
      "outputs": []
    },
    {
      "cell_type": "code",
      "source": [
        "# Fine tune the model\n",
        "\n",
        "model = build_model()\n",
        "\n",
        "model.summary()"
      ],
      "metadata": {
        "colab": {
          "base_uri": "https://localhost:8080/"
        },
        "id": "cNIcnPqBzCWP",
        "outputId": "9e984ab0-8af8-4100-d20e-d5dde9948001"
      },
      "execution_count": 52,
      "outputs": [
        {
          "output_type": "stream",
          "name": "stdout",
          "text": [
            "Model: \"model\"\n",
            "__________________________________________________________________________________________________\n",
            " Layer (type)                   Output Shape         Param #     Connected to                     \n",
            "==================================================================================================\n",
            " input_2 (InputLayer)           [(None, 128)]        0           []                               \n",
            "                                                                                                  \n",
            " input_3 (InputLayer)           [(None, 128)]        0           []                               \n",
            "                                                                                                  \n",
            " input_1 (InputLayer)           [(None, 128)]        0           []                               \n",
            "                                                                                                  \n",
            " keras_layer (KerasLayer)       {'sequence_output':  109482241   ['input_2[0][0]',                \n",
            "                                 (None, 128, 768),                'input_3[0][0]',                \n",
            "                                 'encoder_outputs':               'input_1[0][0]']                \n",
            "                                 [(None, 128, 768),                                               \n",
            "                                 (None, 128, 768),                                                \n",
            "                                 (None, 128, 768),                                                \n",
            "                                 (None, 128, 768),                                                \n",
            "                                 (None, 128, 768),                                                \n",
            "                                 (None, 128, 768),                                                \n",
            "                                 (None, 128, 768),                                                \n",
            "                                 (None, 128, 768),                                                \n",
            "                                 (None, 128, 768),                                                \n",
            "                                 (None, 128, 768),                                                \n",
            "                                 (None, 128, 768),                                                \n",
            "                                 (None, 128, 768)],                                               \n",
            "                                 'pooled_output': (                                               \n",
            "                                None, 768),                                                       \n",
            "                                 'default': (None,                                                \n",
            "                                768)}                                                             \n",
            "                                                                                                  \n",
            " dropout (Dropout)              (None, 768)          0           ['keras_layer[1][13]']           \n",
            "                                                                                                  \n",
            " output (Dense)                 (None, 1)            769         ['dropout[0][0]']                \n",
            "                                                                                                  \n",
            "==================================================================================================\n",
            "Total params: 109,483,010\n",
            "Trainable params: 109,483,009\n",
            "Non-trainable params: 1\n",
            "__________________________________________________________________________________________________\n"
          ]
        }
      ]
    },
    {
      "cell_type": "code",
      "source": [
        "# plot the model\n",
        "tf.keras.utils.plot_model(model, show_shapes=True)"
      ],
      "metadata": {
        "colab": {
          "base_uri": "https://localhost:8080/",
          "height": 188
        },
        "id": "IDLUe4LOWGcV",
        "outputId": "de1ef8e4-4b65-425e-81c2-b6e1e291bffa"
      },
      "execution_count": 53,
      "outputs": [
        {
          "output_type": "execute_result",
          "data": {
            "image/png": "[encoded data removed]",
            "text/plain": [
              "<IPython.core.display.Image object>"
            ]
          },
          "metadata": {},
          "execution_count": 53
        }
      ]
    },
    {
      "cell_type": "code",
      "source": [
        "# Optimizer to update the weights\n",
        "optim = tf.keras.optimizers.Adam(learning_rate = 0.001)\n",
        "# Loss calculation\n",
        "loss = tf.keras.losses.BinaryCrossentropy()\n",
        "# metrics\n",
        "metric1 = tf.keras.metrics.Recall()\n",
        "metric2 = tf.keras.metrics.FalseNegatives()\n",
        "# Compile the model\n",
        "model.compile(optimizer = optim,\n",
        "              loss = loss,\n",
        "              metrics = [metric1, metric2])"
      ],
      "metadata": {
        "id": "3rPZixfL8T0S"
      },
      "execution_count": 71,
      "outputs": []
    },
    {
      "cell_type": "code",
      "source": [
        "model.fit(train_dataset, epochs = 5, validation_data=val_dataset)"
      ],
      "metadata": {
        "colab": {
          "base_uri": "https://localhost:8080/",
          "height": 1000
        },
        "id": "f7_PHNyW9I_W",
        "outputId": "86e0e2c1-aff9-4253-c7fd-2e8d65fd2fa2"
      },
      "execution_count": 70,
      "outputs": [
        {
          "output_type": "stream",
          "name": "stdout",
          "text": [
            "Epoch 1/5\n"
          ]
        },
        {
          "output_type": "error",
          "ename": "InvalidArgumentError",
          "evalue": "ignored",
          "traceback": [
            "\u001b[0;31m---------------------------------------------------------------------------\u001b[0m",
            "\u001b[0;31mInvalidArgumentError\u001b[0m                      Traceback (most recent call last)",
            "\u001b[0;32m<ipython-input-70-9b099001fab6>\u001b[0m in \u001b[0;36m<cell line: 1>\u001b[0;34m()\u001b[0m\n\u001b[0;32m----> 1\u001b[0;31m \u001b[0mmodel\u001b[0m\u001b[0;34m.\u001b[0m\u001b[0mfit\u001b[0m\u001b[0;34m(\u001b[0m\u001b[0mtrain_dataset\u001b[0m\u001b[0;34m,\u001b[0m \u001b[0mepochs\u001b[0m \u001b[0;34m=\u001b[0m \u001b[0;36m5\u001b[0m\u001b[0;34m,\u001b[0m \u001b[0mvalidation_data\u001b[0m\u001b[0;34m=\u001b[0m\u001b[0mval_dataset\u001b[0m\u001b[0;34m)\u001b[0m\u001b[0;34m\u001b[0m\u001b[0;34m\u001b[0m\u001b[0m\n\u001b[0m",
            "\u001b[0;32m/usr/local/lib/python3.10/dist-packages/keras/utils/traceback_utils.py\u001b[0m in \u001b[0;36merror_handler\u001b[0;34m(*args, **kwargs)\u001b[0m\n\u001b[1;32m     68\u001b[0m             \u001b[0;31m# To get the full stack trace, call:\u001b[0m\u001b[0;34m\u001b[0m\u001b[0;34m\u001b[0m\u001b[0m\n\u001b[1;32m     69\u001b[0m             \u001b[0;31m# `tf.debugging.disable_traceback_filtering()`\u001b[0m\u001b[0;34m\u001b[0m\u001b[0;34m\u001b[0m\u001b[0m\n\u001b[0;32m---> 70\u001b[0;31m             \u001b[0;32mraise\u001b[0m \u001b[0me\u001b[0m\u001b[0;34m.\u001b[0m\u001b[0mwith_traceback\u001b[0m\u001b[0;34m(\u001b[0m\u001b[0mfiltered_tb\u001b[0m\u001b[0;34m)\u001b[0m \u001b[0;32mfrom\u001b[0m \u001b[0;32mNone\u001b[0m\u001b[0;34m\u001b[0m\u001b[0;34m\u001b[0m\u001b[0m\n\u001b[0m\u001b[1;32m     71\u001b[0m         \u001b[0;32mfinally\u001b[0m\u001b[0;34m:\u001b[0m\u001b[0;34m\u001b[0m\u001b[0;34m\u001b[0m\u001b[0m\n\u001b[1;32m     72\u001b[0m             \u001b[0;32mdel\u001b[0m \u001b[0mfiltered_tb\u001b[0m\u001b[0;34m\u001b[0m\u001b[0;34m\u001b[0m\u001b[0m\n",
            "\u001b[0;32m/usr/local/lib/python3.10/dist-packages/tensorflow/python/eager/execute.py\u001b[0m in \u001b[0;36mquick_execute\u001b[0;34m(op_name, num_outputs, inputs, attrs, ctx, name)\u001b[0m\n\u001b[1;32m     50\u001b[0m   \u001b[0;32mtry\u001b[0m\u001b[0;34m:\u001b[0m\u001b[0;34m\u001b[0m\u001b[0;34m\u001b[0m\u001b[0m\n\u001b[1;32m     51\u001b[0m     \u001b[0mctx\u001b[0m\u001b[0;34m.\u001b[0m\u001b[0mensure_initialized\u001b[0m\u001b[0;34m(\u001b[0m\u001b[0;34m)\u001b[0m\u001b[0;34m\u001b[0m\u001b[0;34m\u001b[0m\u001b[0m\n\u001b[0;32m---> 52\u001b[0;31m     tensors = pywrap_tfe.TFE_Py_Execute(ctx._handle, device_name, op_name,\n\u001b[0m\u001b[1;32m     53\u001b[0m                                         inputs, attrs, num_outputs)\n\u001b[1;32m     54\u001b[0m   \u001b[0;32mexcept\u001b[0m \u001b[0mcore\u001b[0m\u001b[0;34m.\u001b[0m\u001b[0m_NotOkStatusException\u001b[0m \u001b[0;32mas\u001b[0m \u001b[0me\u001b[0m\u001b[0;34m:\u001b[0m\u001b[0;34m\u001b[0m\u001b[0;34m\u001b[0m\u001b[0m\n",
            "\u001b[0;31mInvalidArgumentError\u001b[0m: Graph execution error:\n\n2 root error(s) found.\n  (0) INVALID_ARGUMENT:  ValueError: Unsupported string type: <class 'numpy.ndarray'>\nTraceback (most recent call last):\n\n  File \"/usr/local/lib/python3.10/dist-packages/tensorflow/python/ops/script_ops.py\", line 265, in __call__\n    return func(device, token, args)\n\n  File \"/usr/local/lib/python3.10/dist-packages/tensorflow/python/ops/script_ops.py\", line 143, in __call__\n    outputs = self._call(device, args)\n\n  File \"/usr/local/lib/python3.10/dist-packages/tensorflow/python/ops/script_ops.py\", line 150, in _call\n    ret = self._func(*args)\n\n  File \"/usr/local/lib/python3.10/dist-packages/tensorflow/python/autograph/impl/api.py\", line 642, in wrapper\n    return func(*args, **kwargs)\n\n  File \"<ipython-input-36-19f1a956de52>\", line 13, in to_feature\n    feature = classifier_data_lib.convert_single_example(0, example, labels, max_seq_len, tknzr)\n\n  File \"/content/models/official/nlp/data/classifier_data_lib.py\", line 1107, in convert_single_example\n    tokens_a = tokenizer.tokenize(example.text_a)\n\n  File \"/content/models/official/nlp/tools/tokenization.py\", line 179, in tokenize\n    split_tokens = []\n\n  File \"/content/models/official/nlp/tools/tokenization.py\", line 209, in tokenize\n    \"\"\"Tokenizes a piece of text.\"\"\"\n\n  File \"/content/models/official/nlp/tools/tokenization.py\", line 92, in convert_to_unicode\n    else:\n\nValueError: Unsupported string type: <class 'numpy.ndarray'>\n\n\n\t [[{{node EagerPyFunc}}]]\n\t [[IteratorGetNext]]\n\t [[IteratorGetNext/_28]]\n  (1) INVALID_ARGUMENT:  ValueError: Unsupported string type: <class 'numpy.ndarray'>\nTraceback (most recent call last):\n\n  File \"/usr/local/lib/python3.10/dist-packages/tensorflow/python/ops/script_ops.py\", line 265, in __call__\n    return func(device, token, args)\n\n  File \"/usr/local/lib/python3.10/dist-packages/tensorflow/python/ops/script_ops.py\", line 143, in __call__\n    outputs = self._call(device, args)\n\n  File \"/usr/local/lib/python3.10/dist-packages/tensorflow/python/ops/script_ops.py\", line 150, in _call\n    ret = self._func(*args)\n\n  File \"/usr/local/lib/python3.10/dist-packages/tensorflow/python/autograph/impl/api.py\", line 642, in wrapper\n    return func(*args, **kwargs)\n\n  File \"<ipython-input-36-19f1a956de52>\", line 13, in to_feature\n    feature = classifier_data_lib.convert_single_example(0, example, labels, max_seq_len, tknzr)\n\n  File \"/content/models/official/nlp/data/classifier_data_lib.py\", line 1107, in convert_single_example\n    tokens_a = tokenizer.tokenize(example.text_a)\n\n  File \"/content/models/official/nlp/tools/tokenization.py\", line 179, in tokenize\n    split_tokens = []\n\n  File \"/content/models/official/nlp/tools/tokenization.py\", line 209, in tokenize\n    \"\"\"Tokenizes a piece of text.\"\"\"\n\n  File \"/content/models/official/nlp/tools/tokenization.py\", line 92, in convert_to_unicode\n    else:\n\nValueError: Unsupported string type: <class 'numpy.ndarray'>\n\n\n\t [[{{node EagerPyFunc}}]]\n\t [[IteratorGetNext]]\n0 successful operations.\n0 derived errors ignored. [Op:__inference_train_function_110816]"
          ]
        }
      ]
    },
    {
      "cell_type": "code",
      "source": [
        "tf.keras.backend.clear_session()"
      ],
      "metadata": {
        "id": "QJ1WWYxB9I76"
      },
      "execution_count": 46,
      "outputs": []
    },
    {
      "cell_type": "code",
      "source": [],
      "metadata": {
        "id": "W41OvXP_9I5e"
      },
      "execution_count": null,
      "outputs": []
    },
    {
      "cell_type": "code",
      "source": [],
      "metadata": {
        "id": "uvukvHSU9I29"
      },
      "execution_count": null,
      "outputs": []
    },
    {
      "cell_type": "code",
      "source": [],
      "metadata": {
        "id": "5_yTdJm69I0c"
      },
      "execution_count": null,
      "outputs": []
    },
    {
      "cell_type": "code",
      "source": [],
      "metadata": {
        "id": "7MdOeGP19Ixp"
      },
      "execution_count": null,
      "outputs": []
    },
    {
      "cell_type": "code",
      "source": [],
      "metadata": {
        "id": "DV0CtjfL9Iuv"
      },
      "execution_count": null,
      "outputs": []
    },
    {
      "cell_type": "code",
      "source": [],
      "metadata": {
        "id": "UcC_iw8U9IsA"
      },
      "execution_count": null,
      "outputs": []
    }
  ]
}